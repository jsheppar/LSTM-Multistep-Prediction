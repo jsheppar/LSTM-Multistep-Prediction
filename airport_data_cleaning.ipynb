{
 "cells": [
  {
   "cell_type": "code",
   "execution_count": 1,
   "id": "2f0c6dca-0add-4dc0-9e35-86f7744f0776",
   "metadata": {},
   "outputs": [],
   "source": [
    "import os\n",
    "import numpy as np\n",
    "import pandas as pd\n",
    "from datetime import datetime"
   ]
  },
  {
   "cell_type": "code",
   "execution_count": 101,
   "id": "cc2a3ed3-3830-4576-9133-527885aaf3dd",
   "metadata": {},
   "outputs": [],
   "source": [
    "rain_df = pd.read_csv('./sitka_data/PASI.2022-02-16_edited.csv')"
   ]
  },
  {
   "cell_type": "code",
   "execution_count": 103,
   "id": "cb1b05ca-70eb-4ca0-b641-9b2c32e430a3",
   "metadata": {},
   "outputs": [],
   "source": [
    "rain_df[\"Date_Time\"] = pd.to_datetime(rain_df['Date_Time'])\n",
    "rain_df[\"rain_cleaned\"] = np.zeros(len(rain_df[\"Date\"]))\n",
    "cleaned_df = pd.DataFrame()"
   ]
  },
  {
   "cell_type": "code",
   "execution_count": 104,
   "id": "073118ae-b2af-4c5c-b3ee-63bc5a935d91",
   "metadata": {},
   "outputs": [
    {
     "name": "stderr",
     "output_type": "stream",
     "text": [
      "/var/folders/mn/8gx_1nrx5tx0zgvml77hjfzm0000gp/T/ipykernel_10312/2192581728.py:11: SettingWithCopyWarning: \n",
      "A value is trying to be set on a copy of a slice from a DataFrame\n",
      "\n",
      "See the caveats in the documentation: https://pandas.pydata.org/pandas-docs/stable/user_guide/indexing.html#returning-a-view-versus-a-copy\n",
      "  rain_df[\"rain_cleaned\"][ii] = np.max(rain_df[\"mm_precip_accum_one_hour_set_1\"][ii:jj])\n",
      "/var/folders/mn/8gx_1nrx5tx0zgvml77hjfzm0000gp/T/ipykernel_10312/2192581728.py:12: SettingWithCopyWarning: \n",
      "A value is trying to be set on a copy of a slice from a DataFrame\n",
      "\n",
      "See the caveats in the documentation: https://pandas.pydata.org/pandas-docs/stable/user_guide/indexing.html#returning-a-view-versus-a-copy\n",
      "  rain_df[\"Date_Time\"][ii]=rain_df[\"Date_Time\"][ii].replace(minute=0, second=0, microsecond=0) #might need to be fixed\n"
     ]
    }
   ],
   "source": [
    "jj=0\n",
    "for ii in range(len(rain_df)):\n",
    "    if ii < jj:\n",
    "        continue\n",
    "    date = rain_df[\"Date_Time\"][ii].date()\n",
    "    time = rain_df[\"Date_Time\"][ii].time()\n",
    "    if jj<(len(rain_df[\"Date_Time\"])-1):\n",
    "        jj = ii+1\n",
    "    while (date==rain_df[\"Date_Time\"][jj].date())&(time.hour==rain_df[\"Date_Time\"][jj].time().hour)&(jj<(len(rain_df[\"Date_Time\"])-1)):\n",
    "        jj+=1\n",
    "    rain_df[\"rain_cleaned\"][ii] = np.max(rain_df[\"mm_precip_accum_one_hour_set_1\"][ii:jj])\n",
    "    rain_df[\"Date_Time\"][ii]=rain_df[\"Date_Time\"][ii].replace(minute=0, second=0, microsecond=0) #might need to be fixed\n",
    "    cleaned_df = cleaned_df.append(rain_df.iloc[[ii]])\n",
    "    "
   ]
  },
  {
   "cell_type": "code",
   "execution_count": 106,
   "id": "3b75fabd-b3fd-46de-ba50-f9de7be8eacb",
   "metadata": {},
   "outputs": [],
   "source": [
    "#cleaned_df"
   ]
  },
  {
   "cell_type": "code",
   "execution_count": 91,
   "id": "cadcc8f2-8847-4ff3-8f2f-3aa63fab806e",
   "metadata": {},
   "outputs": [],
   "source": [
    "cleaned_df.to_csv('./sitka_data/cleaned_rain.csv')"
   ]
  },
  {
   "cell_type": "code",
   "execution_count": null,
   "id": "f797225d-aea1-4fe0-9304-8ae0702f26a4",
   "metadata": {},
   "outputs": [],
   "source": []
  }
 ],
 "metadata": {
  "kernelspec": {
   "display_name": "Python 3 (ipykernel)",
   "language": "python",
   "name": "python3"
  },
  "language_info": {
   "codemirror_mode": {
    "name": "ipython",
    "version": 3
   },
   "file_extension": ".py",
   "mimetype": "text/x-python",
   "name": "python",
   "nbconvert_exporter": "python",
   "pygments_lexer": "ipython3",
   "version": "3.9.9"
  }
 },
 "nbformat": 4,
 "nbformat_minor": 5
}
