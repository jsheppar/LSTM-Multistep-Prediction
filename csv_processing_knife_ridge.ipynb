{
 "cells": [
  {
   "cell_type": "code",
   "execution_count": 1,
   "id": "bdc2df51-22c7-480b-8dde-f33b675a8568",
   "metadata": {},
   "outputs": [],
   "source": [
    "%load_ext autoreload\n",
    "%autoreload 2"
   ]
  },
  {
   "cell_type": "code",
   "execution_count": 2,
   "id": "c48e6fdd-f40f-46b6-8981-c29762322a70",
   "metadata": {},
   "outputs": [],
   "source": [
    "#everything we will import to use later\n",
    "import os\n",
    "import numpy as np\n",
    "import pandas as pd\n",
    "from datetime import datetime, date, timedelta\n",
    "from matplotlib import pyplot as plt\n",
    "from functions import add_max_rainfall\n",
    "import tqdm\n",
    "from tqdm.notebook import tqdm_notebook"
   ]
  },
  {
   "cell_type": "code",
   "execution_count": 14,
   "id": "7ab77827-717c-42cd-bf06-1d48db52c581",
   "metadata": {},
   "outputs": [
    {
     "data": {
      "application/json": {
       "ascii": false,
       "bar_format": null,
       "colour": null,
       "elapsed": 0.012812137603759766,
       "initial": 0,
       "n": 0,
       "ncols": null,
       "nrows": 60,
       "postfix": null,
       "prefix": "",
       "rate": null,
       "total": 72,
       "unit": "it",
       "unit_divisor": 1000,
       "unit_scale": false
      },
      "application/vnd.jupyter.widget-view+json": {
       "model_id": "be4d1dbe0e214f0983d250fb1a549973",
       "version_major": 2,
       "version_minor": 0
      },
      "text/plain": [
       "  0%|          | 0/72 [00:00<?, ?it/s]"
      ]
     },
     "metadata": {},
     "output_type": "display_data"
    }
   ],
   "source": [
    "#pit = \"SP8\"\n",
    "ocr = pd.read_csv('./sitka_data/cleaned_rain_floor_pp_SP2.csv', index_col='Date_Time')#,sep='\\t')\n",
    "# stamps = ocr.index.values.astype(float)\n",
    "# datetimes = np.zeros(len(stamps)).astype(datetime)\n",
    "\n",
    "ocr.index = pd.to_datetime(ocr.index)\n",
    "\n",
    "# for ii in range(len(datetimes)):\n",
    "#     datetimes[ii] = OrdinalToDatetime(stamps[ii])\n",
    "\n",
    "#ocr.set_index(datetimes, inplace=True)\n",
    "pp_cols = [v for v in ocr.columns if \"porePressure_\" in v]  # allows any pp depths, as the depth varies from pit to pit\n",
    "VWC_cols = [v for v in ocr.columns if \"VWC_\" in v]  # allows any water content depths, as the depth varies from pit to pit\n",
    "ocr[pp_cols] = ocr[pp_cols].mask(ocr[pp_cols] < -14) #mask pp smaller than -14, we're interested in larger pp\n",
    "\n",
    "# add in forecasted rainfall\n",
    "# this will take a while\n",
    "for i in tqdm_notebook(range(1,73,1)):\n",
    "    ocr = add_max_rainfall(ocr, i, 0, noise=False)\n",
    "\n",
    "#df.sort_index(axis=1, inplace=True)    \n",
    "\n",
    "cols_at_end = VWC_cols + pp_cols\n",
    "ocr = ocr[[c for c in ocr if c not in cols_at_end] + [c for c in cols_at_end if c in ocr]]\n",
    "\n",
    "ocr.to_csv('./sitka_data/processed_for_training_SP2_72_1.csv')"
   ]
  },
  {
   "cell_type": "code",
   "execution_count": 15,
   "id": "70fb1182-16a1-4e6f-b1b1-0ee5cca59a2f",
   "metadata": {},
   "outputs": [
    {
     "data": {
      "application/json": {
       "ascii": false,
       "bar_format": null,
       "colour": null,
       "elapsed": 0.01448512077331543,
       "initial": 0,
       "n": 0,
       "ncols": null,
       "nrows": 60,
       "postfix": null,
       "prefix": "",
       "rate": null,
       "total": 36,
       "unit": "it",
       "unit_divisor": 1000,
       "unit_scale": false
      },
      "application/vnd.jupyter.widget-view+json": {
       "model_id": "d174db5a65d14b5db852d777d6727254",
       "version_major": 2,
       "version_minor": 0
      },
      "text/plain": [
       "  0%|          | 0/36 [00:00<?, ?it/s]"
      ]
     },
     "metadata": {},
     "output_type": "display_data"
    }
   ],
   "source": [
    "ocr = pd.read_csv('./sitka_data/cleaned_rain_floor_pp_SP2.csv', index_col='Date_Time')#,sep='\\t')\n",
    "\n",
    "ocr.index = pd.to_datetime(ocr.index)\n",
    "\n",
    "pp_cols = [v for v in ocr.columns if \"porePressure_\" in v]  # allows any pp depths, as the depth varies from pit to pit\n",
    "VWC_cols = [v for v in ocr.columns if \"VWC_\" in v]  # allows any water content depths, as the depth varies from pit to pit\n",
    "ocr[pp_cols] = ocr[pp_cols].mask(ocr[pp_cols] < -14) #mask pp smaller than -14, we're interested in larger pp\n",
    "\n",
    "for i in tqdm_notebook(range(2,74,2)):\n",
    "    ocr = add_max_rainfall(ocr, i, 0, noise=False)\n",
    "    \n",
    "cols_at_end = VWC_cols + pp_cols\n",
    "ocr = ocr[[c for c in ocr if c not in cols_at_end] + [c for c in cols_at_end if c in ocr]]\n",
    "\n",
    "ocr.to_csv('./sitka_data/processed_for_training_SP2_72_2.csv')"
   ]
  },
  {
   "cell_type": "code",
   "execution_count": 16,
   "id": "83968343-609f-4c07-8843-c6e74c80f0c8",
   "metadata": {},
   "outputs": [
    {
     "data": {
      "application/json": {
       "ascii": false,
       "bar_format": null,
       "colour": null,
       "elapsed": 0.014587879180908203,
       "initial": 0,
       "n": 0,
       "ncols": null,
       "nrows": 60,
       "postfix": null,
       "prefix": "",
       "rate": null,
       "total": 24,
       "unit": "it",
       "unit_divisor": 1000,
       "unit_scale": false
      },
      "application/vnd.jupyter.widget-view+json": {
       "model_id": "c6f7e83efd904c21adee1e70cc01b99c",
       "version_major": 2,
       "version_minor": 0
      },
      "text/plain": [
       "  0%|          | 0/24 [00:00<?, ?it/s]"
      ]
     },
     "metadata": {},
     "output_type": "display_data"
    }
   ],
   "source": [
    "ocr = pd.read_csv('./sitka_data/cleaned_rain_floor_pp_SP2.csv', index_col='Date_Time')#,sep='\\t')\n",
    "\n",
    "ocr.index = pd.to_datetime(ocr.index)\n",
    "\n",
    "pp_cols = [v for v in ocr.columns if \"porePressure_\" in v]  # allows any pp depths, as the depth varies from pit to pit\n",
    "VWC_cols = [v for v in ocr.columns if \"VWC_\" in v]  # allows any water content depths, as the depth varies from pit to pit\n",
    "ocr[pp_cols] = ocr[pp_cols].mask(ocr[pp_cols] < -14) #mask pp smaller than -14, we're interested in larger pp\n",
    "\n",
    "for i in tqdm_notebook(range(3,75,3)):\n",
    "    ocr = add_max_rainfall(ocr, i, 0, noise=False)\n",
    "\n",
    "cols_at_end = VWC_cols + pp_cols\n",
    "ocr = ocr[[c for c in ocr if c not in cols_at_end] + [c for c in cols_at_end if c in ocr]]\n",
    "\n",
    "ocr.to_csv('./sitka_data/processed_for_training_SP2_72_3.csv')"
   ]
  },
  {
   "cell_type": "code",
   "execution_count": 17,
   "id": "7ff23a54-a6df-45ff-88fc-9b0c3a36c5ad",
   "metadata": {},
   "outputs": [
    {
     "data": {
      "application/json": {
       "ascii": false,
       "bar_format": null,
       "colour": null,
       "elapsed": 0.01793384552001953,
       "initial": 0,
       "n": 0,
       "ncols": null,
       "nrows": 60,
       "postfix": null,
       "prefix": "",
       "rate": null,
       "total": 96,
       "unit": "it",
       "unit_divisor": 1000,
       "unit_scale": false
      },
      "application/vnd.jupyter.widget-view+json": {
       "model_id": "6abb6fb5c5294c3ba676eb2e4a946194",
       "version_major": 2,
       "version_minor": 0
      },
      "text/plain": [
       "  0%|          | 0/96 [00:00<?, ?it/s]"
      ]
     },
     "metadata": {},
     "output_type": "display_data"
    }
   ],
   "source": [
    "ocr = pd.read_csv('./sitka_data/cleaned_rain_floor_pp_SP2.csv', index_col='Date_Time')#,sep='\\t')\n",
    "\n",
    "ocr.index = pd.to_datetime(ocr.index)\n",
    "\n",
    "pp_cols = [v for v in ocr.columns if \"porePressure_\" in v]  # allows any pp depths, as the depth varies from pit to pit\n",
    "VWC_cols = [v for v in ocr.columns if \"VWC_\" in v]  # allows any water content depths, as the depth varies from pit to pit\n",
    "ocr[pp_cols] = ocr[pp_cols].mask(ocr[pp_cols] < -14) #mask pp smaller than -14, we're interested in larger pp\n",
    "\n",
    "for i in tqdm_notebook(range(1,97,1)):\n",
    "    ocr = add_max_rainfall(ocr, i, 0, noise=False)\n",
    "\n",
    "cols_at_end = VWC_cols + pp_cols\n",
    "ocr = ocr[[c for c in ocr if c not in cols_at_end] + [c for c in cols_at_end if c in ocr]]\n",
    "\n",
    "ocr.to_csv('./sitka_data/processed_for_training_SP2_96_1.csv')"
   ]
  },
  {
   "cell_type": "code",
   "execution_count": 18,
   "id": "6f7e9791-cbd9-4237-825a-b87c13b10ce2",
   "metadata": {},
   "outputs": [
    {
     "data": {
      "application/json": {
       "ascii": false,
       "bar_format": null,
       "colour": null,
       "elapsed": 0.017284154891967773,
       "initial": 0,
       "n": 0,
       "ncols": null,
       "nrows": 60,
       "postfix": null,
       "prefix": "",
       "rate": null,
       "total": 48,
       "unit": "it",
       "unit_divisor": 1000,
       "unit_scale": false
      },
      "application/vnd.jupyter.widget-view+json": {
       "model_id": "2c2a8b517e414db1b08601c085976daa",
       "version_major": 2,
       "version_minor": 0
      },
      "text/plain": [
       "  0%|          | 0/48 [00:00<?, ?it/s]"
      ]
     },
     "metadata": {},
     "output_type": "display_data"
    }
   ],
   "source": [
    "ocr = pd.read_csv('./sitka_data/cleaned_rain_floor_pp_SP2.csv', index_col='Date_Time')#,sep='\\t')\n",
    "\n",
    "ocr.index = pd.to_datetime(ocr.index)\n",
    "\n",
    "pp_cols = [v for v in ocr.columns if \"porePressure_\" in v]  # allows any pp depths, as the depth varies from pit to pit\n",
    "VWC_cols = [v for v in ocr.columns if \"VWC_\" in v]  # allows any water content depths, as the depth varies from pit to pit\n",
    "ocr[pp_cols] = ocr[pp_cols].mask(ocr[pp_cols] < -14) #mask pp smaller than -14, we're interested in larger pp\n",
    "\n",
    "for i in tqdm_notebook(range(2,98,2)):\n",
    "    ocr = add_max_rainfall(ocr, i, 0, noise=False)  \n",
    "\n",
    "cols_at_end = VWC_cols + pp_cols\n",
    "ocr = ocr[[c for c in ocr if c not in cols_at_end] + [c for c in cols_at_end if c in ocr]]\n",
    "\n",
    "ocr.to_csv('./sitka_data/processed_for_training_SP2_96_2.csv')"
   ]
  },
  {
   "cell_type": "code",
   "execution_count": 19,
   "id": "6ffff839-3753-4a0a-a995-598bee0b39ae",
   "metadata": {},
   "outputs": [
    {
     "data": {
      "application/json": {
       "ascii": false,
       "bar_format": null,
       "colour": null,
       "elapsed": 0.015445947647094727,
       "initial": 0,
       "n": 0,
       "ncols": null,
       "nrows": 60,
       "postfix": null,
       "prefix": "",
       "rate": null,
       "total": 32,
       "unit": "it",
       "unit_divisor": 1000,
       "unit_scale": false
      },
      "application/vnd.jupyter.widget-view+json": {
       "model_id": "bec1f56062a947d7807357018c3b2c8e",
       "version_major": 2,
       "version_minor": 0
      },
      "text/plain": [
       "  0%|          | 0/32 [00:00<?, ?it/s]"
      ]
     },
     "metadata": {},
     "output_type": "display_data"
    }
   ],
   "source": [
    "ocr = pd.read_csv('./sitka_data/cleaned_rain_floor_pp_SP2.csv', index_col='Date_Time')#,sep='\\t')\n",
    "\n",
    "ocr.index = pd.to_datetime(ocr.index)\n",
    "\n",
    "pp_cols = [v for v in ocr.columns if \"porePressure_\" in v]  # allows any pp depths, as the depth varies from pit to pit\n",
    "VWC_cols = [v for v in ocr.columns if \"VWC_\" in v]  # allows any water content depths, as the depth varies from pit to pit\n",
    "ocr[pp_cols] = ocr[pp_cols].mask(ocr[pp_cols] < -14) #mask pp smaller than -14, we're interested in larger pp\n",
    "\n",
    "for i in tqdm_notebook(range(3,99,3)):\n",
    "    ocr = add_max_rainfall(ocr, i, 0, noise=False)   \n",
    "\n",
    "cols_at_end = VWC_cols + pp_cols\n",
    "ocr = ocr[[c for c in ocr if c not in cols_at_end] + [c for c in cols_at_end if c in ocr]]\n",
    "\n",
    "ocr.to_csv('./sitka_data/processed_for_training_SP2_96_3.csv')"
   ]
  },
  {
   "cell_type": "code",
   "execution_count": null,
   "id": "7988290c-b56d-4d02-aa00-f94a8fe99dcf",
   "metadata": {},
   "outputs": [],
   "source": []
  }
 ],
 "metadata": {
  "kernelspec": {
   "display_name": "Python 3 (ipykernel)",
   "language": "python",
   "name": "python3"
  },
  "language_info": {
   "codemirror_mode": {
    "name": "ipython",
    "version": 3
   },
   "file_extension": ".py",
   "mimetype": "text/x-python",
   "name": "python",
   "nbconvert_exporter": "python",
   "pygments_lexer": "ipython3",
   "version": "3.9.9"
  }
 },
 "nbformat": 4,
 "nbformat_minor": 5
}
