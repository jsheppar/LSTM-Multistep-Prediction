{
 "cells": [
  {
   "cell_type": "markdown",
   "metadata": {
    "colab_type": "text",
    "id": "view-in-github",
    "tags": []
   },
   "source": [
    "<a href=\"https://colab.research.google.com/github/eorland/LSTM-Multistep-Prediction/blob/master/enc_dec_w_attention.ipynb\" target=\"_parent\"><img src=\"https://colab.research.google.com/assets/colab-badge.svg\" alt=\"Open In Colab\"/></a>"
   ]
  },
  {
   "cell_type": "code",
   "execution_count": 1,
   "metadata": {},
   "outputs": [],
   "source": [
    "%load_ext autoreload\n",
    "%autoreload 2"
   ]
  },
  {
   "cell_type": "code",
   "execution_count": 2,
   "metadata": {
    "ExecuteTime": {
     "end_time": "2020-01-22T22:44:13.832760Z",
     "start_time": "2020-01-22T22:44:13.722630Z"
    },
    "colab": {
     "base_uri": "https://localhost:8080/",
     "height": 52
    },
    "colab_type": "code",
    "id": "8B-ONIu6hxWH",
    "outputId": "2dabf5c4-3fc3-45dd-ad19-85ac895c1168",
    "tags": []
   },
   "outputs": [],
   "source": [
    "#everything we will import to use later\n",
    "import os\n",
    "os.environ[\"TF_CPP_MIN_LOG_LEVEL\"]=\"3\"\n",
    "import warnings\n",
    "warnings.filterwarnings('ignore')\n",
    "warnings.simplefilter('ignore')\n",
    "import numpy as np\n",
    "import pandas as pd\n",
    "from datetime import datetime, date, timedelta\n",
    "from matplotlib import pyplot as plt\n",
    "from tensorflow.keras.models import model_from_json\n",
    "import tensorflow_addons as tfa\n",
    "from functions import rescale_no_pp, rescale_w_pp, lstm_prep_no_pp, lstm_prep_w_pp, rectify_cnn_data, mse_nan, mae_nan, evaluate_forecasts, threshold_rmse_eval, naive_forecast, add_max_rainfall, OrdinalToDatetime, predict\n",
    "\n",
    "%matplotlib inline\n",
    "\n",
    "import tensorflow.compat.v1 as tf\n",
    "from tensorflow import keras\n",
    "from tensorflow.keras import backend as K\n",
    "from tensorflow.keras import Model\n",
    "from tensorflow.keras.layers import *\n",
    "from tensorflow.keras.wrappers.scikit_learn import KerasRegressor\n",
    "from sklearn import preprocessing\n",
    "from sklearn.model_selection import train_test_split\n",
    "from sklearn.metrics import mean_squared_error\n",
    "import tqdm\n",
    "from tqdm.keras import TqdmCallback\n",
    "# import logging\n",
    "# tf.get_logger().setLevel(logging.ERROR)\n",
    "#check our version\n",
    "# print(tf.VERSION)\n",
    "# print(tf.keras.__version__)"
   ]
  },
  {
   "cell_type": "code",
   "execution_count": 3,
   "metadata": {
    "ExecuteTime": {
     "end_time": "2020-01-22T22:44:23.005938Z",
     "start_time": "2020-01-22T22:44:15.668946Z"
    },
    "colab": {},
    "colab_type": "code",
    "id": "QJSqohV0hxWt"
   },
   "outputs": [],
   "source": [
    "forecast_hrs = 72\n",
    "#pit_forecast = str(forecast_hrs)+\"_1\"\n",
    "ocr = pd.read_csv('./sitka_data/processed_for_training_3_hour_72_no_vwc.csv', index_col=0)\n",
    "#ocr = pd.read_csv('./SP1_processed.csv', index_col=0)\n",
    "pp_cols = [v for v in ocr.columns if \"Pressure_\" in v]  # measures number of features for pp\n",
    "VWC_cols = [v for v in ocr.columns if \"vwc_\" in v]  # measures number of features for VWC\n",
    "\n",
    "num_targets = len(pp_cols)# + len(VWC_cols)\n",
    "ocr.index = pd.to_datetime(ocr.index)"
   ]
  },
  {
   "cell_type": "code",
   "execution_count": 4,
   "metadata": {
    "ExecuteTime": {
     "end_time": "2020-01-22T22:46:39.724683Z",
     "start_time": "2020-01-22T22:46:39.651347Z"
    },
    "colab": {},
    "colab_type": "code",
    "id": "5bO4k789hxXS",
    "tags": []
   },
   "outputs": [
    {
     "name": "stderr",
     "output_type": "stream",
     "text": [
      "100%|███████████████████████████████████████| 7433/7433 [06:09<00:00, 20.12it/s]\n"
     ]
    }
   ],
   "source": [
    "# scale data, no antecedant pp\n",
    "data = ocr\n",
    "data_scaling_features = preprocessing.MinMaxScaler(feature_range=(0,1)).fit(data.iloc[:,:-num_targets])\n",
    "data_scaled_df = pd.DataFrame(data_scaling_features.transform(data.iloc[:,:-num_targets]), index=ocr.index)\n",
    "data_scaling_targets = preprocessing.MinMaxScaler(feature_range=(0,1)).fit(data.iloc[:,-num_targets:])\n",
    "data_scaled_df = pd.concat([data_scaled_df, (pd.DataFrame(data_scaling_targets.transform(data.iloc[:,-num_targets:]), index=ocr.index))], axis = 1)\n",
    "data_scaled_df.fillna(-1, inplace=True)\n",
    "\n",
    "ntrain = 56  #how long should the antecedant window be?\n",
    "ntarg = 8  #this is the second and third variable, just good to keep them the same to cover all available data\n",
    "\n",
    "# finally, prepare features and targets\n",
    "features, targets, target_indices = lstm_prep_no_pp(data_scaled_df.index.values, data_scaled_df.values[:,:-num_targets], \n",
    "                                              data_scaled_df.values[:,-num_targets:], num_targets, ntrain, ntarg)\n",
    "\n",
    "# create bounds for the prediction intervals\n",
    "intervals = np.zeros(len(target_indices))\n",
    "for i in range(0, len(intervals), targets.shape[1]):\n",
    "    intervals[i]=1\n",
    "\n",
    "intervals[intervals==0] = np.nan\n",
    "\n",
    "binary_indices = np.copy(target_indices)\n",
    "\n",
    "for i in range(0, len(binary_indices), forecast_hrs):\n",
    "    binary_indices[i] = np.datetime64(\"NaT\")\n",
    "    \n",
    "# set -1s to nan to be ignored\n",
    "targets[targets==-1] = np.nan"
   ]
  },
  {
   "cell_type": "code",
   "execution_count": 5,
   "metadata": {
    "tags": []
   },
   "outputs": [],
   "source": [
    "# # scale data, w/ antecedant pp\n",
    "# data = ocr\n",
    "# data_scaling = preprocessing.MinMaxScaler(feature_range=(0,1)).fit(data.iloc[:,:])\n",
    "# data_scaled = pd.DataFrame(data_scaling.transform(data.iloc[:,:]),index=ocr.index)\n",
    "# data_scaled_df = data_scaled.fillna(-1)\n",
    "\n",
    "# # finally, prepare features and targets\n",
    "# features, targets, target_indices = lstm_prep_w_pp(data_scaled_df.index.values, data_scaled_df.values, num_targets, forecast_hrs, forecast_hrs)\n",
    "\n",
    "# # create bounds for the prediction intervals\n",
    "# intervals = np.zeros(len(target_indices))\n",
    "# for i in range(0,len(intervals),targets.shape[1]):\n",
    "#     intervals[i]=1\n",
    "\n",
    "# intervals[intervals==0] = np.nan\n",
    "\n",
    "# binary_indices = np.copy(target_indices)\n",
    "\n",
    "# for i in range(0,len(binary_indices),36):\n",
    "#     binary_indices[i]=np.datetime64(\"NaT\")\n",
    "    \n",
    "# # set -1s to nan to be ignored\n",
    "# targets[targets==-1] = np.nan"
   ]
  },
  {
   "cell_type": "code",
   "execution_count": 6,
   "metadata": {},
   "outputs": [
    {
     "name": "stdout",
     "output_type": "stream",
     "text": [
      "(7433, 56, 58)\n"
     ]
    }
   ],
   "source": [
    "# np.ceil(ocr.index.get_loc(\"2020-06-09 22:00:00\")/36)\n",
    "print(features.shape)"
   ]
  },
  {
   "cell_type": "code",
   "execution_count": 7,
   "metadata": {
    "ExecuteTime": {
     "end_time": "2020-01-22T22:46:56.876575Z",
     "start_time": "2020-01-22T22:46:56.866142Z"
    },
    "colab": {},
    "colab_type": "code",
    "id": "TcF5iy_yhxX3"
   },
   "outputs": [],
   "source": [
    "# # BAD\n",
    "\n",
    "# # split training/testing data. 0.7 split is about 2 water years of training data\n",
    "# index_usgs_gap_start = ocr.index.get_loc(\"2020-06-09 22:00:00\")\n",
    "# split = 0.7\n",
    "# pp_index = np.floor(index_usgs_gap_start/forecast_hrs)\n",
    "# train_features = features[-int(pp_index*split):]\n",
    "# test_features = features[-int(pp_index*(1-split)):]\n",
    "# predict_features = features[:int(pp_index+1)]  #use these predict array when backcasting\n",
    "\n",
    "# train_targets = targets[-int(pp_index*split):]\n",
    "# test_targets = targets[-int(pp_index*(1-split)):]\n",
    "# test_indices = target_indices[-test_targets.shape[0]*test_targets.shape[1]:]\n",
    "# predict_targets = targets[:int(pp_index+1)]\n",
    "# predict_indices = target_indices[:predict_targets.shape[0]*predict_targets.shape[1]]"
   ]
  },
  {
   "cell_type": "code",
   "execution_count": 8,
   "metadata": {},
   "outputs": [],
   "source": [
    "# # KNIFE RIDGE\n",
    "\n",
    "# # split training/testing data. 0.7 split is about 2 water years of training data\n",
    "\n",
    "# split = 0.75\n",
    "\n",
    "# train_features = features[:int((len(features)*split))]\n",
    "# test_features = features[int((len(features)*split)):]\n",
    "\n",
    "# train_targets = targets[:int((len(features)*split))]\n",
    "# test_targets = targets[int((len(features)*split)):]\n",
    "# test_indices = target_indices[-test_targets.shape[0]*test_targets.shape[1]:]"
   ]
  },
  {
   "cell_type": "code",
   "execution_count": 9,
   "metadata": {},
   "outputs": [],
   "source": [
    "# GOOD?\n",
    "\n",
    "# split training/testing data.\n",
    "index_usgs_gap_start = ocr.index.get_loc(\"2020-06-09 21:00:00\")\n",
    "split = 0.7\n",
    "pp_index = int(np.ceil(index_usgs_gap_start/ntarg))\n",
    "\n",
    "train_split_index = int(features.shape[0]-pp_index)\n",
    "test_split_index = int(train_split_index*(1-split))\n",
    "\n",
    "train_features = features[pp_index:-test_split_index]\n",
    "test_features = features[-test_split_index:]\n",
    "predict_features = features[:int(pp_index+1)]  #use these predict array when backcasting\n",
    "\n",
    "train_targets = targets[pp_index:-test_split_index]\n",
    "test_targets = targets[-test_split_index:]\n",
    "test_indices = target_indices[-test_targets.shape[0]*test_targets.shape[1]:]\n",
    "predict_targets = targets[:int(pp_index+1)]\n",
    "predict_indices = target_indices[:predict_targets.shape[0]*predict_targets.shape[1]]"
   ]
  },
  {
   "cell_type": "code",
   "execution_count": 10,
   "metadata": {},
   "outputs": [
    {
     "name": "stdout",
     "output_type": "stream",
     "text": [
      "(705, 56, 58)\n",
      "(302, 56, 58)\n",
      "(6427, 56, 58)\n",
      "(705, 8, 3)\n",
      "(302, 8, 3)\n",
      "(6427, 8, 3)\n"
     ]
    }
   ],
   "source": [
    "print(train_features.shape)\n",
    "print(test_features.shape)\n",
    "print(predict_features.shape)\n",
    "print(train_targets.shape)\n",
    "print(test_targets.shape)\n",
    "print(predict_targets.shape)"
   ]
  },
  {
   "cell_type": "markdown",
   "metadata": {
    "colab_type": "text",
    "id": "5HXXTCQGhxYn"
   },
   "source": [
    "Create our Encoder:"
   ]
  },
  {
   "cell_type": "code",
   "execution_count": 11,
   "metadata": {
    "ExecuteTime": {
     "end_time": "2020-01-22T22:23:22.261323Z",
     "start_time": "2020-01-22T22:23:18.861Z"
    },
    "colab": {},
    "colab_type": "code",
    "id": "pMTItD5khxYq"
   },
   "outputs": [],
   "source": [
    "# The below model is inspired by and adapted from: https://github.com/LukeTonin/keras-seq-2-seq-signal-prediction\n",
    "# Define an input shape. This is the tensor shape our model expects from now on.\n",
    "# This is essential for a stateful model\n",
    "batch = None\n",
    "#n_units = 36\n",
    "n_units = forecast_hrs\n",
    "#n_units = features.shape[2]\n",
    "\n",
    "encoder_inputs = Input(batch_input_shape=(batch, train_features.shape[1], train_features.shape[2]), name=\"encoder_input\")\n",
    "\n",
    "encoder_lstm = LSTM(n_units, return_state=True, stateful=False, return_sequences=True, name=\"encoder\") # define encoder\n",
    "# connect encoding layer to our inputs, return all states\n",
    "\n",
    "encoder_outputs, state_h, state_c = encoder_lstm(encoder_inputs)\n",
    "encoder_states = [state_h, state_c]"
   ]
  },
  {
   "cell_type": "markdown",
   "metadata": {
    "colab_type": "text",
    "id": "Y-tsdAwfhxYy"
   },
   "source": [
    "Create Decoder:"
   ]
  },
  {
   "cell_type": "code",
   "execution_count": 12,
   "metadata": {
    "ExecuteTime": {
     "end_time": "2020-01-22T22:23:22.264487Z",
     "start_time": "2020-01-22T22:23:18.867Z"
    },
    "colab": {},
    "colab_type": "code",
    "id": "pPbHH3lVhxY1",
    "tags": []
   },
   "outputs": [],
   "source": [
    "# Define inputs to the decoder.\n",
    "decoder_inputs = Input(batch_input_shape=(batch, None, train_targets.shape[2]), name=\"decoder_input\")\n",
    "\n",
    "# Create Decoder...\n",
    "decoder_lstm = LSTM(n_units, return_state=True, return_sequences=True, stateful=False, name=\"decoder\")\n",
    "\n",
    "# Important step: connect Decoder to our input layers and use the hidden and cell states \n",
    "# from the encoder to instantiate this layer\n",
    "#decoder_outputs, decoder_h, decoder_c = decoder_lstm(decoder_inputs, initial_state=[state_h, state_c])\n",
    "decoder_outputs, decoder_h, decoder_c = decoder_lstm(decoder_inputs, initial_state=encoder_states)\n",
    "decoder_states = [decoder_h, decoder_c]\n",
    "\n",
    "#create attention layer\n",
    "# ----------------------\n",
    "attention = dot([decoder_outputs, encoder_outputs], axes=[2, 2], name=\"attention_dot\")\n",
    "attention2 = Activation('softmax')(attention)\n",
    "\n",
    "context = dot([attention2, encoder_outputs], axes=[2,1], name=\"context_dot\")\n",
    "decoder_combined_context = concatenate([context, decoder_outputs])\n",
    "\n",
    "# ----------------------\n",
    "\n",
    "decoder_dense1 = Dense(50, activation='tanh', name=\"decoder_dense1\")\n",
    "dense_context = decoder_dense1(decoder_combined_context)\n",
    "\n",
    "dropout = Dropout(0.5)\n",
    "drop = dropout(dense_context)\n",
    "\n",
    "decoder_dense2 = Dense(train_targets.shape[2], activation='linear', name=\"decoder_context\")\n",
    "decoder_outputs = decoder_dense2(drop)"
   ]
  },
  {
   "cell_type": "code",
   "execution_count": 13,
   "metadata": {
    "ExecuteTime": {
     "end_time": "2020-01-22T22:23:22.268016Z",
     "start_time": "2020-01-22T22:23:18.869Z"
    },
    "colab": {},
    "colab_type": "code",
    "id": "l6mSzUxvhxY9",
    "tags": []
   },
   "outputs": [],
   "source": [
    "model = Model(inputs=[encoder_inputs, decoder_inputs], outputs=decoder_outputs)\n",
    "model.compile(optimizer='adam', loss=mse_nan, metrics=mse_nan)"
   ]
  },
  {
   "cell_type": "code",
   "execution_count": 14,
   "metadata": {},
   "outputs": [],
   "source": [
    "#model.summary()"
   ]
  },
  {
   "cell_type": "code",
   "execution_count": 20,
   "metadata": {
    "ExecuteTime": {
     "end_time": "2020-01-22T22:23:35.172641Z",
     "start_time": "2020-01-22T22:23:30.880461Z"
    },
    "colab": {},
    "colab_type": "code",
    "id": "1NQ4kvBRhxZi",
    "scrolled": true,
    "tags": []
   },
   "outputs": [
    {
     "data": {
      "application/json": {
       "ascii": false,
       "bar_format": null,
       "colour": null,
       "elapsed": 0.016782045364379883,
       "initial": 0,
       "n": 0,
       "ncols": null,
       "nrows": 60,
       "postfix": null,
       "prefix": "",
       "rate": null,
       "total": null,
       "unit": "epoch",
       "unit_divisor": 1000,
       "unit_scale": false
      },
      "application/vnd.jupyter.widget-view+json": {
       "model_id": "095b680a4d9e434eb272ee974bcfabec",
       "version_major": 2,
       "version_minor": 0
      },
      "text/plain": [
       "0epoch [00:00, ?epoch/s]"
      ]
     },
     "metadata": {},
     "output_type": "display_data"
    },
    {
     "name": "stdout",
     "output_type": "stream",
     "text": [
      "Fitting complete! \n"
     ]
    }
   ],
   "source": [
    "# initialize tqdm callback with default parameters\n",
    "tqdm_callback = tfa.callbacks.TQDMProgressBar()\n",
    "\n",
    "# if a computer can fit every epoch in one go, set epochs to 1 (or any lower number) and encase the fit command in a for loop.\n",
    "# successive calls to the fit command will increasingly fit the model\n",
    "model.fit([train_features, train_features[:,-8:,-num_targets:]], train_targets, epochs=2000, batch_size=80, verbose=0, shuffle=False, callbacks=[TqdmCallback(verbose=0)])\n",
    "#model.fit([train_features, train_features[:,-ntarg:,-num_targets:]], train_targets, epochs=2000, batch_size=forecast_hrs, verbose=0, shuffle=False, callbacks=[TqdmCallback(verbose=0)])\n",
    "print(\"Fitting complete! \")"
   ]
  },
  {
   "cell_type": "code",
   "execution_count": 21,
   "metadata": {
    "ExecuteTime": {
     "end_time": "2020-01-22T22:23:22.274823Z",
     "start_time": "2020-01-22T22:23:18.889Z"
    },
    "colab": {},
    "colab_type": "code",
    "id": "s-a_AnSthxZQ",
    "tags": []
   },
   "outputs": [],
   "source": [
    "#define inference ('inf') model, a separate encoding model. This just outputs our encoder states\n",
    "encoder_model = Model(encoder_inputs, [encoder_outputs, encoder_states])\n",
    "inf_encoder_outputs, inf_encoder_states = encoder_model(encoder_inputs)\n",
    "\n",
    "# set state shapes, which tells our decoder to accepts inputs states of the specificed size\n",
    "decoder_states_inputs = [Input(shape=(n_units,)), Input(shape=(n_units,))]\n",
    "\n",
    "# create our decoding layer. accepts same shape as decoder inputs and encoder states\n",
    "inf_decoder_outputs, inf_state_h, inf_state_c = decoder_lstm(decoder_inputs, initial_state=decoder_states_inputs)\n",
    "\n",
    "# save decoder output states. We'll use these as the input states for our decoder for predicting each next timestep\n",
    "# after the initial input of our encoder states\n",
    "inf_decoder_states = [inf_state_h, inf_state_c]\n",
    "\n",
    "inf_attention = dot([inf_decoder_outputs, inf_encoder_outputs], axes=[2, 2])\n",
    "inf_attention2 = Activation('softmax')(inf_attention)\n",
    "\n",
    "inf_context = dot([inf_attention2, inf_encoder_outputs], axes=[2,1])\n",
    "inf_decoder_combined_context = concatenate([inf_context, inf_decoder_outputs])\n",
    "\n",
    "inf_dense_context = decoder_dense1(inf_decoder_combined_context)\n",
    "inf_drop = dropout(inf_dense_context)\n",
    "\n",
    "inf_final_outputs = decoder_dense2(inf_drop)\n",
    "\n",
    "# finally, instantiate our decoder model. Inputs are the original sequence + the encoder states. \n",
    "# outputs: sequence prediction + the states used for the decoder\n",
    "decoder_model = Model([encoder_inputs, decoder_inputs]+decoder_states_inputs, [inf_final_outputs]+inf_decoder_states)"
   ]
  },
  {
   "cell_type": "markdown",
   "metadata": {
    "colab_type": "text",
    "id": "aAwzmwcEhxZu"
   },
   "source": [
    "Evaluate Model"
   ]
  },
  {
   "cell_type": "code",
   "execution_count": 22,
   "metadata": {
    "ExecuteTime": {
     "end_time": "2020-01-22T22:58:52.756325Z",
     "start_time": "2020-01-22T22:58:51.031435Z"
    },
    "colab": {},
    "colab_type": "code",
    "id": "DM5l6E8YhxZ7",
    "tags": []
   },
   "outputs": [
    {
     "name": "stdout",
     "output_type": "stream",
     "text": [
      "test data new shape: (2416, 3)\n",
      "prediction new shape: (2416, 3)\n"
     ]
    }
   ],
   "source": [
    "# # no antecedent pp\n",
    "# predictions = predict(test_features, encoder_model, decoder_model, num_steps_to_predict=train_targets.shape[1],\n",
    "#                       num_features_to_predict=train_targets.shape[2], batch_size=None)\n",
    "\n",
    "# tests, preds = rescale_no_pp(test_features, test_targets, predictions, data_scaling_features, data_scaling_targets, test_indices)"
   ]
  },
  {
   "cell_type": "code",
   "execution_count": 18,
   "metadata": {
    "tags": []
   },
   "outputs": [],
   "source": [
    "# # w antecedent pp\n",
    "# predictions = predict(test_features, encoder_model, decoder_model, num_steps_to_predict=train_targets.shape[1],\n",
    "#                       num_features_to_predict=train_targets.shape[2], batch_size=None)\n",
    "\n",
    "# tests, preds = rescale_w_pp(test_features, test_targets, predictions, data_scaling, test_indices)"
   ]
  },
  {
   "cell_type": "code",
   "execution_count": 25,
   "metadata": {
    "tags": []
   },
   "outputs": [
    {
     "name": "stdout",
     "output_type": "stream",
     "text": [
      "test data new shape: (51416, 3)\n",
      "prediction new shape: (51416, 3)\n"
     ]
    }
   ],
   "source": [
    "# backcast (w no antecedent pp)\n",
    "predictions = predict(predict_features, encoder_model, decoder_model, num_steps_to_predict=train_targets.shape[1],\n",
    "                      num_features_to_predict=train_targets.shape[2], batch_size=None)\n",
    "\n",
    "tests_back, preds_back = rescale_no_pp(predict_features, predict_targets, predictions, data_scaling_features, data_scaling_targets, predict_indices)"
   ]
  },
  {
   "cell_type": "code",
   "execution_count": 48,
   "metadata": {
    "ExecuteTime": {
     "end_time": "2020-01-22T22:59:08.290943Z",
     "start_time": "2020-01-22T22:58:56.226534Z"
    },
    "colab": {
     "base_uri": "https://localhost:8080/",
     "height": 208
    },
    "colab_type": "code",
    "id": "q5GA-BpVhxaT",
    "outputId": "92fdad65-74cc-4075-ead6-6c955656f6f7",
    "tags": []
   },
   "outputs": [],
   "source": [
    "# score, scores = evaluate_forecasts(tests.values, preds.values)\n",
    "\n",
    "# #generate naive predictions\n",
    "# # naive_preds = naive_forecast(tests.values,1,24)\n",
    "# # naive_preds = pd.DataFrame(naive_preds, index=tests.index)\n",
    "\n",
    "# #evaluate model performance on RMSE of just hazardous pore pressure values\n",
    "# print(\"\\nLSTM Performance:\")\n",
    "# y_pos, pred_pos, rmse, diff_array = threshold_rmse_eval(tests.values, preds.values, -1.0)\n",
    "# # print(\"Naive Comparison:\")\n",
    "# # y_pos_naive, naive_pos, naive_rmse, naive_diff_array = threshold_rmse_eval(tests.values, naive_preds.values, -0.5)"
   ]
  },
  {
   "cell_type": "code",
   "execution_count": 49,
   "metadata": {},
   "outputs": [],
   "source": [
    "#print(preds.index[0], '\\n', preds.index[-1])"
   ]
  },
  {
   "cell_type": "code",
   "execution_count": 26,
   "metadata": {},
   "outputs": [
    {
     "data": {
      "text/html": [
       "<div>\n",
       "<style scoped>\n",
       "    .dataframe tbody tr th:only-of-type {\n",
       "        vertical-align: middle;\n",
       "    }\n",
       "\n",
       "    .dataframe tbody tr th {\n",
       "        vertical-align: top;\n",
       "    }\n",
       "\n",
       "    .dataframe thead th {\n",
       "        text-align: right;\n",
       "    }\n",
       "</style>\n",
       "<table border=\"1\" class=\"dataframe\">\n",
       "  <thead>\n",
       "    <tr style=\"text-align: right;\">\n",
       "      <th></th>\n",
       "      <th>0</th>\n",
       "      <th>1</th>\n",
       "      <th>2</th>\n",
       "    </tr>\n",
       "  </thead>\n",
       "  <tbody>\n",
       "    <tr>\n",
       "      <th>2002-11-13 06:00:00</th>\n",
       "      <td>0.290690</td>\n",
       "      <td>0.292087</td>\n",
       "      <td>-0.000074</td>\n",
       "    </tr>\n",
       "    <tr>\n",
       "      <th>2002-11-13 09:00:00</th>\n",
       "      <td>0.292565</td>\n",
       "      <td>0.301853</td>\n",
       "      <td>0.000884</td>\n",
       "    </tr>\n",
       "    <tr>\n",
       "      <th>2002-11-13 12:00:00</th>\n",
       "      <td>0.294115</td>\n",
       "      <td>0.312957</td>\n",
       "      <td>0.002040</td>\n",
       "    </tr>\n",
       "    <tr>\n",
       "      <th>2002-11-13 15:00:00</th>\n",
       "      <td>0.296929</td>\n",
       "      <td>0.314731</td>\n",
       "      <td>0.001908</td>\n",
       "    </tr>\n",
       "    <tr>\n",
       "      <th>2002-11-13 18:00:00</th>\n",
       "      <td>0.295869</td>\n",
       "      <td>0.313217</td>\n",
       "      <td>0.001856</td>\n",
       "    </tr>\n",
       "    <tr>\n",
       "      <th>...</th>\n",
       "      <td>...</td>\n",
       "      <td>...</td>\n",
       "      <td>...</td>\n",
       "    </tr>\n",
       "    <tr>\n",
       "      <th>2020-06-17 15:00:00</th>\n",
       "      <td>0.245641</td>\n",
       "      <td>0.249414</td>\n",
       "      <td>0.000213</td>\n",
       "    </tr>\n",
       "    <tr>\n",
       "      <th>2020-06-17 18:00:00</th>\n",
       "      <td>0.245435</td>\n",
       "      <td>0.249271</td>\n",
       "      <td>0.000222</td>\n",
       "    </tr>\n",
       "    <tr>\n",
       "      <th>2020-06-17 21:00:00</th>\n",
       "      <td>0.245948</td>\n",
       "      <td>0.249934</td>\n",
       "      <td>0.000238</td>\n",
       "    </tr>\n",
       "    <tr>\n",
       "      <th>2020-06-18 00:00:00</th>\n",
       "      <td>0.253269</td>\n",
       "      <td>0.259369</td>\n",
       "      <td>0.000470</td>\n",
       "    </tr>\n",
       "    <tr>\n",
       "      <th>2020-06-18 03:00:00</th>\n",
       "      <td>0.286709</td>\n",
       "      <td>0.296194</td>\n",
       "      <td>0.000789</td>\n",
       "    </tr>\n",
       "  </tbody>\n",
       "</table>\n",
       "<p>51416 rows × 3 columns</p>\n",
       "</div>"
      ],
      "text/plain": [
       "                            0         1         2\n",
       "2002-11-13 06:00:00  0.290690  0.292087 -0.000074\n",
       "2002-11-13 09:00:00  0.292565  0.301853  0.000884\n",
       "2002-11-13 12:00:00  0.294115  0.312957  0.002040\n",
       "2002-11-13 15:00:00  0.296929  0.314731  0.001908\n",
       "2002-11-13 18:00:00  0.295869  0.313217  0.001856\n",
       "...                       ...       ...       ...\n",
       "2020-06-17 15:00:00  0.245641  0.249414  0.000213\n",
       "2020-06-17 18:00:00  0.245435  0.249271  0.000222\n",
       "2020-06-17 21:00:00  0.245948  0.249934  0.000238\n",
       "2020-06-18 00:00:00  0.253269  0.259369  0.000470\n",
       "2020-06-18 03:00:00  0.286709  0.296194  0.000789\n",
       "\n",
       "[51416 rows x 3 columns]"
      ]
     },
     "execution_count": 26,
     "metadata": {},
     "output_type": "execute_result"
    }
   ],
   "source": [
    "ocr.index = ocr.index.tz_localize(None)\n",
    "preds_back"
   ]
  },
  {
   "cell_type": "code",
   "execution_count": 19,
   "metadata": {},
   "outputs": [],
   "source": [
    "#preds_back"
   ]
  },
  {
   "cell_type": "code",
   "execution_count": 29,
   "metadata": {
    "ExecuteTime": {
     "end_time": "2020-01-22T23:00:37.169878Z",
     "start_time": "2020-01-22T22:59:41.756027Z"
    },
    "colab": {
     "base_uri": "https://localhost:8080/",
     "height": 781
    },
    "colab_type": "code",
    "id": "IRu92f9ihxag",
    "outputId": "a9f102d3-1c33-4e34-9585-8942d22b6212",
    "tags": []
   },
   "outputs": [
    {
     "data": {
      "image/png": "[encoded data removed]",
      "text/plain": [
       "<Figure size 1296x1008 with 4 Axes>"
      ]
     },
     "metadata": {
      "needs_background": "light"
     },
     "output_type": "display_data"
    }
   ],
   "source": [
    "import matplotlib.lines as mlines\n",
    "\n",
    "start_1 = pd.to_datetime('2015-08-01')\n",
    "end_1 = pd.to_datetime('2015-09-01')\n",
    "\n",
    "# start_1 = pd.to_datetime('2022-05-30')\n",
    "# end_1 = pd.to_datetime('2022-10-01')\n",
    "\n",
    "# start_3 = pd.to_datetime('2022-10-01')\n",
    "# end_3 = pd.to_datetime('2023-03-21')\n",
    "\n",
    "#messy plot of rainfall and test data/predictions. I've been messing with the y axis range to help clean it up\n",
    "\n",
    "#col_list = VWC_cols + pp_cols\n",
    "col_list = pp_cols\n",
    "\n",
    "fig, (ax1, ax3) = plt.subplots(2, 1, figsize=(18,14), sharex=False)\n",
    "\n",
    "# ax1.scatter(tests.index, tests.iloc[:, 1], c='k', linewidth=1, label='Observed Data')\n",
    "# ax1.scatter(preds.index, preds.iloc[:, 1], c='green', label='Predictions_1')\n",
    "\n",
    "ax1.plot(tests_back.iloc[:, 1], c='k', linewidth=1, label='Observed Data')\n",
    "ax1.plot(preds_back.iloc[:, 1], c='green', label='Predictions_1')\n",
    "\n",
    "# ax3.plot(tests.iloc[:, 1], c='k', linewidth=1, label='Observed Data')\n",
    "# ax3.plot(preds.iloc[:, 1], c='green', label='Predictions_1')\n",
    "\n",
    "#ax1.scatter(target_indices, intervals, c='k', marker='|', s=50, alpha=0.5)\n",
    "\n",
    "ax1.set_xlim(start_1, end_1)\n",
    "ax3.set_xlim(start_3, end_3)  \n",
    "\n",
    "ax1.set_ylabel('Suction (kPa)')\n",
    "ax1.set_ylim(0.0, 0.8)\n",
    "ax1.xaxis.set_visible(True)\n",
    "\n",
    "ax3.set_ylabel('Suction (kPa)')\n",
    "ax3.set_ylim(0.0, 0.8)\n",
    "ax3.xaxis.set_visible(True)\n",
    "\n",
    "plt.xticks(rotation=45)\n",
    "\n",
    "ax1.tick_params(axis='both', labelcolor='k', labelsize=13)\n",
    "ax3.tick_params(axis='both', labelcolor='k', labelsize=13)\n",
    "\n",
    "ax2 = ax1.twinx()  # instantiate a second axes that shares the same x-axis\n",
    "ax4 = ax3.twinx()  # instantiate a second axes that shares the same x-axis\n",
    "\n",
    "ax1.patch.set_visible(False)\n",
    "ax1.set_zorder(ax2.get_zorder() + 1)\n",
    "\n",
    "ax3.patch.set_visible(False)\n",
    "ax3.set_zorder(ax4.get_zorder() + 1)\n",
    "\n",
    "ax2.set_ylabel('Rainfall (mm)', color='royalblue')  # we already handled the x-label with ax1\n",
    "ax2.bar(preds_back.index, ocr.loc[preds_back.index, ocr.columns[0]], color='royalblue', alpha=0.8,width=0.2)\n",
    "ax2.tick_params(axis='y', labelcolor='royalblue', labelsize=13)\n",
    "\n",
    "ax2.set_ylim(0,25)\n",
    "\n",
    "ax4.set_ylabel('Rainfall (mm)', color='royalblue')  # we already handled the x-label with ax1\n",
    "ax4.bar(preds_back.index, ocr.loc[preds_back.index, ocr.columns[0]], color='royalblue', alpha=0.8,width=0.2)\n",
    "ax4.tick_params(axis='y', labelcolor='royalblue', labelsize=13)\n",
    "\n",
    "ax4.set_ylim(0,25)\n",
    "\n",
    "one_line = mlines.Line2D([], [], color='green', marker='',\n",
    "                  markersize=15, label='Max PP')\n",
    "# two_line = mlines.Line2D([], [], color='blue', marker='',\n",
    "#                   markersize=15, label='2 Hour')\n",
    "\n",
    "\n",
    "black_line = mlines.Line2D([], [], color='k', marker='',\n",
    "                  markersize=15, label='Observed Pressures')\n",
    "\n",
    "plt.legend(handles=[one_line, black_line], loc='upper center',\n",
    "        fontsize='small', bbox_to_anchor=(0.52,1.01), ncol=4,\n",
    "        markerscale=1.3, frameon=False)\n",
    "# plt.legend(handles=[one_line_hr, one_line_ft, black_line], loc='upper center',\n",
    "#         fontsize='small', bbox_to_anchor=(0.52,1.01), ncol=4,\n",
    "#         markerscale=1.3, frameon=False)\n",
    "\n",
    "plt.title(\"Max PP, 72 Hr Forecast, 3 Input\")\n",
    "\n",
    "plt.setp(ax1.get_xticklabels(True, \"major\"), visible=True)\n",
    "plt.setp(ax3.get_xticklabels(True, \"major\"), visible=True)\n",
    "\n",
    "\n",
    "plt.tight_layout()\n",
    "\n",
    "#plt.savefig('./sitka_data/training_figs/'+str(forecast_hrs)+'_combined_1_hrs_fts.png',dpi=300)\n",
    "plt.show()"
   ]
  },
  {
   "cell_type": "code",
   "execution_count": null,
   "metadata": {
    "tags": []
   },
   "outputs": [],
   "source": [
    "# r_values_full = np.zeros((7,len(col_list)))\n",
    "# pits_index = 0"
   ]
  },
  {
   "cell_type": "code",
   "execution_count": 20,
   "metadata": {},
   "outputs": [],
   "source": [
    "preds.to_csv('./sitka_data/prediction_results/prediction_test_hard_split_batch_100.csv')"
   ]
  },
  {
   "cell_type": "code",
   "execution_count": 23,
   "metadata": {
    "colab": {
     "base_uri": "https://localhost:8080/",
     "height": 709
    },
    "colab_type": "code",
    "collapsed": true,
    "id": "56gRuKPTog9X",
    "jupyter": {
     "outputs_hidden": true
    },
    "outputId": "ed502caf-2e22-4c49-bc48-cd2bc1fd3a39",
    "tags": []
   },
   "outputs": [
    {
     "ename": "ValueError",
     "evalue": "Input contains NaN.",
     "output_type": "error",
     "traceback": [
      "\u001b[0;31m---------------------------------------------------------------------------\u001b[0m",
      "\u001b[0;31mValueError\u001b[0m                                Traceback (most recent call last)",
      "Input \u001b[0;32mIn [23]\u001b[0m, in \u001b[0;36m<cell line: 7>\u001b[0;34m()\u001b[0m\n\u001b[1;32m     12\u001b[0m ax1\u001b[38;5;241m.\u001b[39mplot(x, y, c\u001b[38;5;241m=\u001b[39m\u001b[38;5;124m'\u001b[39m\u001b[38;5;124mk\u001b[39m\u001b[38;5;124m'\u001b[39m)\n\u001b[1;32m     13\u001b[0m ax1\u001b[38;5;241m.\u001b[39mscatter(tests\u001b[38;5;241m.\u001b[39miloc[:,i\u001b[38;5;241m-\u001b[39m\u001b[38;5;241m1\u001b[39m], preds\u001b[38;5;241m.\u001b[39miloc[:,i\u001b[38;5;241m-\u001b[39m\u001b[38;5;241m1\u001b[39m], c\u001b[38;5;241m=\u001b[39m\u001b[38;5;124m'\u001b[39m\u001b[38;5;124mslategrey\u001b[39m\u001b[38;5;124m'\u001b[39m, s\u001b[38;5;241m=\u001b[39m\u001b[38;5;241m15\u001b[39m, alpha\u001b[38;5;241m=\u001b[39m\u001b[38;5;241m0.4\u001b[39m)\n\u001b[0;32m---> 15\u001b[0m r2 \u001b[38;5;241m=\u001b[39m \u001b[43mr2_score\u001b[49m\u001b[43m(\u001b[49m\u001b[43mtests\u001b[49m\u001b[38;5;241;43m.\u001b[39;49m\u001b[43miloc\u001b[49m\u001b[43m[\u001b[49m\u001b[43m:\u001b[49m\u001b[43m,\u001b[49m\u001b[43mi\u001b[49m\u001b[38;5;241;43m-\u001b[39;49m\u001b[38;5;241;43m1\u001b[39;49m\u001b[43m]\u001b[49m\u001b[43m,\u001b[49m\u001b[43m \u001b[49m\u001b[43mpreds\u001b[49m\u001b[38;5;241;43m.\u001b[39;49m\u001b[43miloc\u001b[49m\u001b[43m[\u001b[49m\u001b[43m:\u001b[49m\u001b[43m,\u001b[49m\u001b[43mi\u001b[49m\u001b[38;5;241;43m-\u001b[39;49m\u001b[38;5;241;43m1\u001b[39;49m\u001b[43m]\u001b[49m\u001b[43m)\u001b[49m\n\u001b[1;32m     16\u001b[0m \u001b[38;5;28mprint\u001b[39m(linregress(tests\u001b[38;5;241m.\u001b[39miloc[:,i\u001b[38;5;241m-\u001b[39m\u001b[38;5;241m1\u001b[39m], preds\u001b[38;5;241m.\u001b[39miloc[:,i\u001b[38;5;241m-\u001b[39m\u001b[38;5;241m1\u001b[39m]))\n\u001b[1;32m     17\u001b[0m slope, intercept, r_value, p_value, std_err \u001b[38;5;241m=\u001b[39m linregress(tests\u001b[38;5;241m.\u001b[39miloc[:,i\u001b[38;5;241m-\u001b[39m\u001b[38;5;241m1\u001b[39m],\n\u001b[1;32m     18\u001b[0m                                                        preds\u001b[38;5;241m.\u001b[39miloc[:,i\u001b[38;5;241m-\u001b[39m\u001b[38;5;241m1\u001b[39m])\n",
      "File \u001b[0;32m~/Dropbox (University of Oregon)/GitHub/LSTM-Multistep-Prediction/env/lib/python3.9/site-packages/sklearn/metrics/_regression.py:911\u001b[0m, in \u001b[0;36mr2_score\u001b[0;34m(y_true, y_pred, sample_weight, multioutput, force_finite)\u001b[0m\n\u001b[1;32m    784\u001b[0m \u001b[38;5;28;01mdef\u001b[39;00m \u001b[38;5;21mr2_score\u001b[39m(\n\u001b[1;32m    785\u001b[0m     y_true,\n\u001b[1;32m    786\u001b[0m     y_pred,\n\u001b[0;32m   (...)\u001b[0m\n\u001b[1;32m    790\u001b[0m     force_finite\u001b[38;5;241m=\u001b[39m\u001b[38;5;28;01mTrue\u001b[39;00m,\n\u001b[1;32m    791\u001b[0m ):\n\u001b[1;32m    792\u001b[0m     \u001b[38;5;124;03m\"\"\":math:`R^2` (coefficient of determination) regression score function.\u001b[39;00m\n\u001b[1;32m    793\u001b[0m \n\u001b[1;32m    794\u001b[0m \u001b[38;5;124;03m    Best possible score is 1.0 and it can be negative (because the\u001b[39;00m\n\u001b[0;32m   (...)\u001b[0m\n\u001b[1;32m    909\u001b[0m \u001b[38;5;124;03m    -inf\u001b[39;00m\n\u001b[1;32m    910\u001b[0m \u001b[38;5;124;03m    \"\"\"\u001b[39;00m\n\u001b[0;32m--> 911\u001b[0m     y_type, y_true, y_pred, multioutput \u001b[38;5;241m=\u001b[39m \u001b[43m_check_reg_targets\u001b[49m\u001b[43m(\u001b[49m\n\u001b[1;32m    912\u001b[0m \u001b[43m        \u001b[49m\u001b[43my_true\u001b[49m\u001b[43m,\u001b[49m\u001b[43m \u001b[49m\u001b[43my_pred\u001b[49m\u001b[43m,\u001b[49m\u001b[43m \u001b[49m\u001b[43mmultioutput\u001b[49m\n\u001b[1;32m    913\u001b[0m \u001b[43m    \u001b[49m\u001b[43m)\u001b[49m\n\u001b[1;32m    914\u001b[0m     check_consistent_length(y_true, y_pred, sample_weight)\n\u001b[1;32m    916\u001b[0m     \u001b[38;5;28;01mif\u001b[39;00m _num_samples(y_pred) \u001b[38;5;241m<\u001b[39m \u001b[38;5;241m2\u001b[39m:\n",
      "File \u001b[0;32m~/Dropbox (University of Oregon)/GitHub/LSTM-Multistep-Prediction/env/lib/python3.9/site-packages/sklearn/metrics/_regression.py:101\u001b[0m, in \u001b[0;36m_check_reg_targets\u001b[0;34m(y_true, y_pred, multioutput, dtype)\u001b[0m\n\u001b[1;32m     67\u001b[0m \u001b[38;5;124;03m\"\"\"Check that y_true and y_pred belong to the same regression task.\u001b[39;00m\n\u001b[1;32m     68\u001b[0m \n\u001b[1;32m     69\u001b[0m \u001b[38;5;124;03mParameters\u001b[39;00m\n\u001b[0;32m   (...)\u001b[0m\n\u001b[1;32m     98\u001b[0m \u001b[38;5;124;03m    correct keyword.\u001b[39;00m\n\u001b[1;32m     99\u001b[0m \u001b[38;5;124;03m\"\"\"\u001b[39;00m\n\u001b[1;32m    100\u001b[0m check_consistent_length(y_true, y_pred)\n\u001b[0;32m--> 101\u001b[0m y_true \u001b[38;5;241m=\u001b[39m \u001b[43mcheck_array\u001b[49m\u001b[43m(\u001b[49m\u001b[43my_true\u001b[49m\u001b[43m,\u001b[49m\u001b[43m \u001b[49m\u001b[43mensure_2d\u001b[49m\u001b[38;5;241;43m=\u001b[39;49m\u001b[38;5;28;43;01mFalse\u001b[39;49;00m\u001b[43m,\u001b[49m\u001b[43m \u001b[49m\u001b[43mdtype\u001b[49m\u001b[38;5;241;43m=\u001b[39;49m\u001b[43mdtype\u001b[49m\u001b[43m)\u001b[49m\n\u001b[1;32m    102\u001b[0m y_pred \u001b[38;5;241m=\u001b[39m check_array(y_pred, ensure_2d\u001b[38;5;241m=\u001b[39m\u001b[38;5;28;01mFalse\u001b[39;00m, dtype\u001b[38;5;241m=\u001b[39mdtype)\n\u001b[1;32m    104\u001b[0m \u001b[38;5;28;01mif\u001b[39;00m y_true\u001b[38;5;241m.\u001b[39mndim \u001b[38;5;241m==\u001b[39m \u001b[38;5;241m1\u001b[39m:\n",
      "File \u001b[0;32m~/Dropbox (University of Oregon)/GitHub/LSTM-Multistep-Prediction/env/lib/python3.9/site-packages/sklearn/utils/validation.py:899\u001b[0m, in \u001b[0;36mcheck_array\u001b[0;34m(array, accept_sparse, accept_large_sparse, dtype, order, copy, force_all_finite, ensure_2d, allow_nd, ensure_min_samples, ensure_min_features, estimator, input_name)\u001b[0m\n\u001b[1;32m    893\u001b[0m         \u001b[38;5;28;01mraise\u001b[39;00m \u001b[38;5;167;01mValueError\u001b[39;00m(\n\u001b[1;32m    894\u001b[0m             \u001b[38;5;124m\"\u001b[39m\u001b[38;5;124mFound array with dim \u001b[39m\u001b[38;5;132;01m%d\u001b[39;00m\u001b[38;5;124m. \u001b[39m\u001b[38;5;132;01m%s\u001b[39;00m\u001b[38;5;124m expected <= 2.\u001b[39m\u001b[38;5;124m\"\u001b[39m\n\u001b[1;32m    895\u001b[0m             \u001b[38;5;241m%\u001b[39m (array\u001b[38;5;241m.\u001b[39mndim, estimator_name)\n\u001b[1;32m    896\u001b[0m         )\n\u001b[1;32m    898\u001b[0m     \u001b[38;5;28;01mif\u001b[39;00m force_all_finite:\n\u001b[0;32m--> 899\u001b[0m         \u001b[43m_assert_all_finite\u001b[49m\u001b[43m(\u001b[49m\n\u001b[1;32m    900\u001b[0m \u001b[43m            \u001b[49m\u001b[43marray\u001b[49m\u001b[43m,\u001b[49m\n\u001b[1;32m    901\u001b[0m \u001b[43m            \u001b[49m\u001b[43minput_name\u001b[49m\u001b[38;5;241;43m=\u001b[39;49m\u001b[43minput_name\u001b[49m\u001b[43m,\u001b[49m\n\u001b[1;32m    902\u001b[0m \u001b[43m            \u001b[49m\u001b[43mestimator_name\u001b[49m\u001b[38;5;241;43m=\u001b[39;49m\u001b[43mestimator_name\u001b[49m\u001b[43m,\u001b[49m\n\u001b[1;32m    903\u001b[0m \u001b[43m            \u001b[49m\u001b[43mallow_nan\u001b[49m\u001b[38;5;241;43m=\u001b[39;49m\u001b[43mforce_all_finite\u001b[49m\u001b[43m \u001b[49m\u001b[38;5;241;43m==\u001b[39;49m\u001b[43m \u001b[49m\u001b[38;5;124;43m\"\u001b[39;49m\u001b[38;5;124;43mallow-nan\u001b[39;49m\u001b[38;5;124;43m\"\u001b[39;49m\u001b[43m,\u001b[49m\n\u001b[1;32m    904\u001b[0m \u001b[43m        \u001b[49m\u001b[43m)\u001b[49m\n\u001b[1;32m    906\u001b[0m \u001b[38;5;28;01mif\u001b[39;00m ensure_min_samples \u001b[38;5;241m>\u001b[39m \u001b[38;5;241m0\u001b[39m:\n\u001b[1;32m    907\u001b[0m     n_samples \u001b[38;5;241m=\u001b[39m _num_samples(array)\n",
      "File \u001b[0;32m~/Dropbox (University of Oregon)/GitHub/LSTM-Multistep-Prediction/env/lib/python3.9/site-packages/sklearn/utils/validation.py:146\u001b[0m, in \u001b[0;36m_assert_all_finite\u001b[0;34m(X, allow_nan, msg_dtype, estimator_name, input_name)\u001b[0m\n\u001b[1;32m    124\u001b[0m         \u001b[38;5;28;01mif\u001b[39;00m (\n\u001b[1;32m    125\u001b[0m             \u001b[38;5;129;01mnot\u001b[39;00m allow_nan\n\u001b[1;32m    126\u001b[0m             \u001b[38;5;129;01mand\u001b[39;00m estimator_name\n\u001b[0;32m   (...)\u001b[0m\n\u001b[1;32m    130\u001b[0m             \u001b[38;5;66;03m# Improve the error message on how to handle missing values in\u001b[39;00m\n\u001b[1;32m    131\u001b[0m             \u001b[38;5;66;03m# scikit-learn.\u001b[39;00m\n\u001b[1;32m    132\u001b[0m             msg_err \u001b[38;5;241m+\u001b[39m\u001b[38;5;241m=\u001b[39m (\n\u001b[1;32m    133\u001b[0m                 \u001b[38;5;124mf\u001b[39m\u001b[38;5;124m\"\u001b[39m\u001b[38;5;130;01m\\n\u001b[39;00m\u001b[38;5;132;01m{\u001b[39;00mestimator_name\u001b[38;5;132;01m}\u001b[39;00m\u001b[38;5;124m does not accept missing values\u001b[39m\u001b[38;5;124m\"\u001b[39m\n\u001b[1;32m    134\u001b[0m                 \u001b[38;5;124m\"\u001b[39m\u001b[38;5;124m encoded as NaN natively. For supervised learning, you might want\u001b[39m\u001b[38;5;124m\"\u001b[39m\n\u001b[0;32m   (...)\u001b[0m\n\u001b[1;32m    144\u001b[0m                 \u001b[38;5;124m\"\u001b[39m\u001b[38;5;124m#estimators-that-handle-nan-values\u001b[39m\u001b[38;5;124m\"\u001b[39m\n\u001b[1;32m    145\u001b[0m             )\n\u001b[0;32m--> 146\u001b[0m         \u001b[38;5;28;01mraise\u001b[39;00m \u001b[38;5;167;01mValueError\u001b[39;00m(msg_err)\n\u001b[1;32m    148\u001b[0m \u001b[38;5;66;03m# for object dtype data, we only check for NaNs (GH-13254)\u001b[39;00m\n\u001b[1;32m    149\u001b[0m \u001b[38;5;28;01melif\u001b[39;00m X\u001b[38;5;241m.\u001b[39mdtype \u001b[38;5;241m==\u001b[39m np\u001b[38;5;241m.\u001b[39mdtype(\u001b[38;5;124m\"\u001b[39m\u001b[38;5;124mobject\u001b[39m\u001b[38;5;124m\"\u001b[39m) \u001b[38;5;129;01mand\u001b[39;00m \u001b[38;5;129;01mnot\u001b[39;00m allow_nan:\n",
      "\u001b[0;31mValueError\u001b[0m: Input contains NaN."
     ]
    },
    {
     "data": {
      "image/png": "[encoded data removed]",
      "text/plain": [
       "<Figure size 432x576 with 3 Axes>"
      ]
     },
     "metadata": {
      "needs_background": "light"
     },
     "output_type": "display_data"
    }
   ],
   "source": [
    "from sklearn.metrics import r2_score\n",
    "from scipy.stats import linregress\n",
    "\n",
    "col_list = pp_cols\n",
    "fig, ax = plt.subplots(3, 1, figsize=(6,8), sharex=False)\n",
    "i = 1\n",
    "for col in col_list:\n",
    "    while i < (len(col_list)+1):\n",
    "        x = np.linspace(np.nanmin(tests.iloc[:,i-1]), np.nanmax(tests.iloc[:,i-1]),100)\n",
    "        y = x\n",
    "        ax1 = ax[i-1]\n",
    "        ax1.plot(x, y, c='k')\n",
    "        ax1.scatter(tests.iloc[:,i-1], preds.iloc[:,i-1], c='slategrey', s=15, alpha=0.4)\n",
    "      \n",
    "        r2 = r2_score(tests.iloc[:,i-1], preds.iloc[:,i-1])\n",
    "        print(linregress(tests.iloc[:,i-1], preds.iloc[:,i-1]))\n",
    "        slope, intercept, r_value, p_value, std_err = linregress(tests.iloc[:,i-1],\n",
    "                                                               preds.iloc[:,i-1])\n",
    "        print(slope)\n",
    "        ax1.annotate(('R = '+'{0:.3f}'.format((r_value))),(0.75,0.2),None,'axes fraction')\n",
    "        #r_values_full[pits_index, i-1] = r_value\n",
    "        #ax1.annotate(('Slope = '+'{0:.3f}'.format((slope))),(0.10,0.72),None,'axes fraction')\n",
    "        #if i == 1:\n",
    "            #ax1.set_title('Soil Matric Potential - Observed vs. Predicted Comparison')\n",
    "        ax1.set_ylabel('Predicted (kPa)')\n",
    "        ax1.set_xlabel('Observed Value (kPa)')\n",
    "\n",
    "        i = i+1\n",
    "    \n",
    "#pits_index += 1\n",
    "\n",
    "plt.tight_layout()\n",
    "#plt.savefig('36hr_36_24_d75dr50_cor_plot_SMALLER.svg',dpi=300)"
   ]
  },
  {
   "cell_type": "code",
   "execution_count": null,
   "metadata": {
    "tags": []
   },
   "outputs": [],
   "source": [
    "r_values_full"
   ]
  },
  {
   "cell_type": "code",
   "execution_count": null,
   "metadata": {},
   "outputs": [],
   "source": []
  }
 ],
 "metadata": {
  "accelerator": "GPU",
  "colab": {
   "collapsed_sections": [],
   "include_colab_link": true,
   "name": "enc_dec_w_attention.ipynb",
   "provenance": []
  },
  "kernelspec": {
   "display_name": "Python 3 (ipykernel)",
   "language": "python",
   "name": "python3"
  },
  "language_info": {
   "codemirror_mode": {
    "name": "ipython",
    "version": 3
   },
   "file_extension": ".py",
   "mimetype": "text/x-python",
   "name": "python",
   "nbconvert_exporter": "python",
   "pygments_lexer": "ipython3",
   "version": "3.9.9"
  }
 },
 "nbformat": 4,
 "nbformat_minor": 4
}
