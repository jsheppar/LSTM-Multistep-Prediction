{
 "cells": [
  {
   "cell_type": "code",
   "execution_count": 4,
   "id": "30da53db-f4aa-4efe-9979-917de8439494",
   "metadata": {},
   "outputs": [
    {
     "name": "stdout",
     "output_type": "stream",
     "text": [
      "The autoreload extension is already loaded. To reload it, use:\n",
      "  %reload_ext autoreload\n"
     ]
    }
   ],
   "source": [
    "%load_ext autoreload\n",
    "%autoreload 2\n",
    "import LSTM_encoder as s2s\n",
    "import torch_functions as fn\n",
    "import LSTM_plotting as s2s_plt\n",
    "from datetime import datetime, date, timedelta\n",
    "import matplotlib\n",
    "import matplotlib.pyplot as plt\n",
    "import pandas as pd\n",
    "import numpy as np\n",
    "from sklearn import preprocessing\n",
    "from sklearn.model_selection import train_test_split\n",
    "from sklearn.metrics import mean_squared_error"
   ]
  },
  {
   "cell_type": "code",
   "execution_count": 8,
   "id": "ec216e26-57e4-4c45-989d-34f33ee70527",
   "metadata": {},
   "outputs": [],
   "source": [
    "# import and prepare data\n",
    "ocr = pd.read_csv('./pit_data/SP1.txt', index_col='timestamp_utc')\n",
    "stamps = ocr.index.values.astype(float)\n",
    "datetimes = np.zeros(len(stamps)).astype(datetime)\n",
    "\n",
    "for ii in range(len(datetimes)):\n",
    "    datetimes[ii] = fn.OrdinalToDatetime(stamps[ii])\n",
    "\n",
    "ocr.set_index(datetimes, inplace=True)\n",
    "pp_cols = [v for v in ocr.columns if \"porePressure_\" in v]  # allows any pp depths, as the depth varies from pit to pit\n",
    "VWC_cols = [v for v in ocr.columns if \"VWC_\" in v]  # allows any water content depths, as the depth varies from pit to pit\n",
    "ocr[pp_cols] = ocr[pp_cols].mask(ocr[pp_cols] < -14)"
   ]
  },
  {
   "cell_type": "code",
   "execution_count": 9,
   "id": "4f6cda43-c000-4ab6-a6f7-71fbf911ed95",
   "metadata": {},
   "outputs": [],
   "source": [
    "# add in forecasted rainfall\n",
    "# this will take a while\n",
    "for i in range(2,38,2):\n",
    "    ocr = fn.add_max_rainfall(ocr, i, 0, noise=False)\n",
    "\n",
    "# rearrange cols\n",
    "ocr = ocr.loc[:,[ocr.columns[0],'2hr_total_rfall', '2hr_max_rfall', '4hr_total_rfall', '4hr_max_rfall',\n",
    "       '6hr_total_rfall', '6hr_max_rfall', '8hr_total_rfall', '8hr_max_rfall',\n",
    "       '10hr_total_rfall', '10hr_max_rfall', '12hr_total_rfall',\n",
    "       '12hr_max_rfall', '14hr_total_rfall', '14hr_max_rfall',\n",
    "       '16hr_total_rfall', '16hr_max_rfall', '18hr_total_rfall',\n",
    "       '18hr_max_rfall', '20hr_total_rfall', '20hr_max_rfall',\n",
    "       '22hr_total_rfall', '22hr_max_rfall', '24hr_total_rfall',\n",
    "       '24hr_max_rfall', '26hr_total_rfall', '26hr_max_rfall',\n",
    "       '28hr_total_rfall', '28hr_max_rfall', '30hr_total_rfall',\n",
    "       '30hr_max_rfall', '32hr_total_rfall', '32hr_max_rfall',\n",
    "       '34hr_total_rfall', '34hr_max_rfall', '36hr_total_rfall',\n",
    "       '36hr_max_rfall', VWC_cols[0], VWC_cols[1], VWC_cols[2],\n",
    "       pp_cols[0], pp_cols[1], pp_cols[2]]]\n"
   ]
  },
  {
   "cell_type": "code",
   "execution_count": 37,
   "id": "c012b21d-ed45-47a1-867d-a53630d2c6d1",
   "metadata": {},
   "outputs": [
    {
     "name": "stdout",
     "output_type": "stream",
     "text": [
      "Target data size:  (26305, 3)\n",
      "Features size:  (36, 43)\n",
      "Targets size:  (36, 3)\n",
      "features size:  (730, 36, 43)\n",
      "Targets size:  (730, 36, 3)\n",
      "Preparations complete!\n"
     ]
    }
   ],
   "source": [
    "# scale data\n",
    "data = ocr\n",
    "data_scaling = preprocessing.MinMaxScaler(feature_range=(0,1)).fit(data.iloc[:,:])\n",
    "data_scaled = pd.DataFrame(data_scaling.transform(data.iloc[:,:]),index=ocr.index)\n",
    "data_scaled_df = data_scaled.fillna(-1)\n",
    "\n",
    "# finally, prepare features and targets\n",
    "features, targets, target_indices = fn.lstm_prep(data_scaled_df.index.values, data_scaled_df.values, 3, 36, 36)\n",
    "\n",
    "# we choose 3 here for # of targets, because we're wanting to predict pore pressure, which is the last 3 columns\n",
    "# 36 is the width of our \"moving window\". 36 time entries. This is supposed to represent 36 hours.\n",
    "\n",
    "# create bounds for the prediction intervals\n",
    "intervals = np.zeros(len(target_indices))\n",
    "for i in range(0,len(intervals),targets.shape[1]):\n",
    "    intervals[i]=1\n",
    "\n",
    "intervals[intervals==0] = np.nan\n",
    "\n",
    "binary_indices = np.copy(target_indices)\n",
    "\n",
    "for i in range(0,len(binary_indices),36):\n",
    "    binary_indices[i]=np.datetime64(\"NaT\")\n",
    "    \n",
    "# set -1s to nan to be ignored\n",
    "targets[targets==-1]=np.nan\n",
    "\n",
    "# split training/testing data based on water years 1&2\n",
    "split = 0.7\n",
    "train_features = features[:int((len(features)*split))]  # use 70% as training\n",
    "test_features = features[int((len(features)*split)):]  # use 30% as validation\n",
    "\n",
    "train_targets = targets[:int((len(features)*split))]  # use 70% as training\n",
    "test_targets = targets[int((len(features)*split)):]  # use 30% as validation\n",
    "test_indices = target_indices[-test_targets.shape[0]*test_targets.shape[1]:]\n",
    "\n",
    "# convert windowed data from np.array to PyTorch tensor\n",
    "X_train, Y_train, X_test, Y_test = proc.numpy_to_torch(train_features, train_targets, test_features, test_targets)\n",
    "\n",
    "print(\"Preparations complete!\")"
   ]
  },
  {
   "cell_type": "code",
   "execution_count": 29,
   "id": "74d33a19-8dbb-4c1c-9df6-fa17bc2bbe2d",
   "metadata": {},
   "outputs": [
    {
     "data": {
      "text/plain": [
       "(26305, 43)"
      ]
     },
     "execution_count": 29,
     "metadata": {},
     "output_type": "execute_result"
    }
   ],
   "source": [
    "data_scaled_df.shape"
   ]
  },
  {
   "cell_type": "code",
   "execution_count": 31,
   "id": "efda73db-8633-4818-8890-34dd86354b91",
   "metadata": {},
   "outputs": [
    {
     "data": {
      "text/plain": [
       "(510, 36, 3)"
      ]
     },
     "execution_count": 31,
     "metadata": {},
     "output_type": "execute_result"
    }
   ],
   "source": [
    "train_targets.shape"
   ]
  },
  {
   "cell_type": "code",
   "execution_count": 25,
   "id": "aa3787d0-c10e-41eb-923c-19b78de450d0",
   "metadata": {},
   "outputs": [
    {
     "data": {
      "text/plain": [
       "torch.Size([510, 36, 43])"
      ]
     },
     "execution_count": 25,
     "metadata": {},
     "output_type": "execute_result"
    }
   ],
   "source": [
    "X_train.shape"
   ]
  },
  {
   "cell_type": "code",
   "execution_count": 26,
   "id": "688d2c6e-d2fe-453b-b48b-4931d50182c1",
   "metadata": {},
   "outputs": [
    {
     "data": {
      "text/plain": [
       "torch.Size([510, 36, 3])"
      ]
     },
     "execution_count": 26,
     "metadata": {},
     "output_type": "execute_result"
    }
   ],
   "source": [
    "Y_train.shape"
   ]
  },
  {
   "cell_type": "code",
   "execution_count": 48,
   "id": "5e2bedd6-a00d-4b64-a4f9-aab5820dfc6f",
   "metadata": {},
   "outputs": [
    {
     "name": "stdout",
     "output_type": "stream",
     "text": [
      "1\n"
     ]
    },
    {
     "name": "stderr",
     "output_type": "stream",
     "text": [
      "100%|█████████████████████████████████| 50/50 [00:10<00:00,  4.78it/s, loss=nan]"
     ]
    },
    {
     "name": "stdout",
     "output_type": "stream",
     "text": [
      "[nan nan nan nan nan nan nan nan nan nan nan nan nan nan nan nan nan nan\n",
      " nan nan nan nan nan nan nan nan nan nan nan nan nan nan nan nan nan nan\n",
      " nan nan nan nan nan nan nan nan nan nan nan nan nan nan]\n"
     ]
    },
    {
     "name": "stderr",
     "output_type": "stream",
     "text": [
      "\n"
     ]
    },
    {
     "ename": "RuntimeError",
     "evalue": "input.size(-1) must be equal to input_size. Expected 3, got 43",
     "output_type": "error",
     "traceback": [
      "\u001b[0;31m---------------------------------------------------------------------------\u001b[0m",
      "\u001b[0;31mRuntimeError\u001b[0m                              Traceback (most recent call last)",
      "Input \u001b[0;32mIn [48]\u001b[0m, in \u001b[0;36m<cell line: 6>\u001b[0;34m()\u001b[0m\n\u001b[1;32m      4\u001b[0m \u001b[38;5;28mprint\u001b[39m(loss)\n\u001b[1;32m      5\u001b[0m \u001b[38;5;66;03m# plot predictions on train/test data\u001b[39;00m\n\u001b[0;32m----> 6\u001b[0m \u001b[43ms2s_plt\u001b[49m\u001b[38;5;241;43m.\u001b[39;49m\u001b[43mplot_train_test_results\u001b[49m\u001b[43m(\u001b[49m\u001b[43mmodel\u001b[49m\u001b[43m,\u001b[49m\u001b[43m \u001b[49m\u001b[43mX_train\u001b[49m\u001b[43m,\u001b[49m\u001b[43m \u001b[49m\u001b[43mY_train\u001b[49m\u001b[43m,\u001b[49m\u001b[43m \u001b[49m\u001b[43mX_test\u001b[49m\u001b[43m,\u001b[49m\u001b[43m \u001b[49m\u001b[43mY_test\u001b[49m\u001b[43m)\u001b[49m\n",
      "File \u001b[0;32m~/Dropbox (University of Oregon)/GitHub/LSTM-Multistep-Prediction/LSTM_plotting.py:33\u001b[0m, in \u001b[0;36mplot_train_test_results\u001b[0;34m(lstm_model, Xtrain, Ytrain, Xtest, Ytest, num_rows)\u001b[0m\n\u001b[1;32m     30\u001b[0m \u001b[38;5;28;01mfor\u001b[39;00m ii \u001b[38;5;129;01min\u001b[39;00m \u001b[38;5;28mrange\u001b[39m(num_rows):\n\u001b[1;32m     31\u001b[0m     \u001b[38;5;66;03m# train set\u001b[39;00m\n\u001b[1;32m     32\u001b[0m     X_train_plt \u001b[38;5;241m=\u001b[39m Xtrain[:, ii, :]\n\u001b[0;32m---> 33\u001b[0m     Y_train_pred \u001b[38;5;241m=\u001b[39m \u001b[43mlstm_model\u001b[49m\u001b[38;5;241;43m.\u001b[39;49m\u001b[43mpredict\u001b[49m\u001b[43m(\u001b[49m\u001b[43mX_train_plt\u001b[49m\u001b[43m,\u001b[49m\u001b[43m \u001b[49m\u001b[43mYtrain\u001b[49m\u001b[43m)\u001b[49m\n\u001b[1;32m     35\u001b[0m     ax[ii, \u001b[38;5;241m0\u001b[39m]\u001b[38;5;241m.\u001b[39mplot(np\u001b[38;5;241m.\u001b[39marange(\u001b[38;5;241m0\u001b[39m, iw), Xtrain[:, ii, \u001b[38;5;241m0\u001b[39m], \u001b[38;5;124m'\u001b[39m\u001b[38;5;124mk\u001b[39m\u001b[38;5;124m'\u001b[39m, linewidth \u001b[38;5;241m=\u001b[39m \u001b[38;5;241m2\u001b[39m, label \u001b[38;5;241m=\u001b[39m \u001b[38;5;124m'\u001b[39m\u001b[38;5;124mInput\u001b[39m\u001b[38;5;124m'\u001b[39m)\n\u001b[1;32m     36\u001b[0m     ax[ii, \u001b[38;5;241m0\u001b[39m]\u001b[38;5;241m.\u001b[39mplot(np\u001b[38;5;241m.\u001b[39marange(iw \u001b[38;5;241m-\u001b[39m \u001b[38;5;241m1\u001b[39m, iw \u001b[38;5;241m+\u001b[39m ow), np\u001b[38;5;241m.\u001b[39mconcatenate([[Xtrain[\u001b[38;5;241m-\u001b[39m\u001b[38;5;241m1\u001b[39m, ii, \u001b[38;5;241m0\u001b[39m]], Ytrain[:, ii, \u001b[38;5;241m0\u001b[39m]]),\n\u001b[1;32m     37\u001b[0m                  color \u001b[38;5;241m=\u001b[39m (\u001b[38;5;241m0.2\u001b[39m, \u001b[38;5;241m0.42\u001b[39m, \u001b[38;5;241m0.72\u001b[39m), linewidth \u001b[38;5;241m=\u001b[39m \u001b[38;5;241m2\u001b[39m, label \u001b[38;5;241m=\u001b[39m \u001b[38;5;124m'\u001b[39m\u001b[38;5;124mTarget\u001b[39m\u001b[38;5;124m'\u001b[39m)\n",
      "File \u001b[0;32m~/Dropbox (University of Oregon)/GitHub/LSTM-Multistep-Prediction/LSTM_encoder.py:302\u001b[0m, in \u001b[0;36mlstm_seq2seq.predict\u001b[0;34m(self, input_tensor, target_tensor)\u001b[0m\n\u001b[1;32m    299\u001b[0m decoder_hidden \u001b[38;5;241m=\u001b[39m encoder_hidden\n\u001b[1;32m    301\u001b[0m \u001b[38;5;28;01mfor\u001b[39;00m t \u001b[38;5;129;01min\u001b[39;00m \u001b[38;5;28mrange\u001b[39m(target_tensor\u001b[38;5;241m.\u001b[39mshape[\u001b[38;5;241m0\u001b[39m]):\n\u001b[0;32m--> 302\u001b[0m     decoder_output, decoder_hidden \u001b[38;5;241m=\u001b[39m \u001b[38;5;28;43mself\u001b[39;49m\u001b[38;5;241;43m.\u001b[39;49m\u001b[43mdecoder\u001b[49m\u001b[43m(\u001b[49m\u001b[43mdecoder_input\u001b[49m\u001b[43m,\u001b[49m\u001b[43m \u001b[49m\u001b[43mdecoder_hidden\u001b[49m\u001b[43m)\u001b[49m\n\u001b[1;32m    303\u001b[0m     outputs[t] \u001b[38;5;241m=\u001b[39m decoder_output\u001b[38;5;241m.\u001b[39msqueeze(\u001b[38;5;241m0\u001b[39m)\n\u001b[1;32m    304\u001b[0m     decoder_input \u001b[38;5;241m=\u001b[39m decoder_output\n",
      "File \u001b[0;32m/opt/anaconda3/envs/TFML/lib/python3.9/site-packages/torch/nn/modules/module.py:1110\u001b[0m, in \u001b[0;36mModule._call_impl\u001b[0;34m(self, *input, **kwargs)\u001b[0m\n\u001b[1;32m   1106\u001b[0m \u001b[38;5;66;03m# If we don't have any hooks, we want to skip the rest of the logic in\u001b[39;00m\n\u001b[1;32m   1107\u001b[0m \u001b[38;5;66;03m# this function, and just call forward.\u001b[39;00m\n\u001b[1;32m   1108\u001b[0m \u001b[38;5;28;01mif\u001b[39;00m \u001b[38;5;129;01mnot\u001b[39;00m (\u001b[38;5;28mself\u001b[39m\u001b[38;5;241m.\u001b[39m_backward_hooks \u001b[38;5;129;01mor\u001b[39;00m \u001b[38;5;28mself\u001b[39m\u001b[38;5;241m.\u001b[39m_forward_hooks \u001b[38;5;129;01mor\u001b[39;00m \u001b[38;5;28mself\u001b[39m\u001b[38;5;241m.\u001b[39m_forward_pre_hooks \u001b[38;5;129;01mor\u001b[39;00m _global_backward_hooks\n\u001b[1;32m   1109\u001b[0m         \u001b[38;5;129;01mor\u001b[39;00m _global_forward_hooks \u001b[38;5;129;01mor\u001b[39;00m _global_forward_pre_hooks):\n\u001b[0;32m-> 1110\u001b[0m     \u001b[38;5;28;01mreturn\u001b[39;00m \u001b[43mforward_call\u001b[49m\u001b[43m(\u001b[49m\u001b[38;5;241;43m*\u001b[39;49m\u001b[38;5;28;43minput\u001b[39;49m\u001b[43m,\u001b[49m\u001b[43m \u001b[49m\u001b[38;5;241;43m*\u001b[39;49m\u001b[38;5;241;43m*\u001b[39;49m\u001b[43mkwargs\u001b[49m\u001b[43m)\u001b[49m\n\u001b[1;32m   1111\u001b[0m \u001b[38;5;66;03m# Do not call functions when jit is used\u001b[39;00m\n\u001b[1;32m   1112\u001b[0m full_backward_hooks, non_full_backward_hooks \u001b[38;5;241m=\u001b[39m [], []\n",
      "File \u001b[0;32m~/Dropbox (University of Oregon)/GitHub/LSTM-Multistep-Prediction/LSTM_encoder.py:137\u001b[0m, in \u001b[0;36mlstm_decoder.forward\u001b[0;34m(self, x_input, encoder_hidden_states)\u001b[0m\n\u001b[1;32m    126\u001b[0m \u001b[38;5;28;01mdef\u001b[39;00m \u001b[38;5;21mforward\u001b[39m(\u001b[38;5;28mself\u001b[39m, x_input, encoder_hidden_states):\n\u001b[1;32m    128\u001b[0m     \u001b[38;5;124;03m'''        \u001b[39;00m\n\u001b[1;32m    129\u001b[0m \u001b[38;5;124;03m    : param x_input:                    should be 2D (batch_size, input_size)\u001b[39;00m\n\u001b[1;32m    130\u001b[0m \u001b[38;5;124;03m    : param encoder_hidden_states:      hidden states\u001b[39;00m\n\u001b[0;32m   (...)\u001b[0m\n\u001b[1;32m    134\u001b[0m \u001b[38;5;124;03m\u001b[39;00m\n\u001b[1;32m    135\u001b[0m \u001b[38;5;124;03m    '''\u001b[39;00m\n\u001b[0;32m--> 137\u001b[0m     lstm_out, \u001b[38;5;28mself\u001b[39m\u001b[38;5;241m.\u001b[39mhidden \u001b[38;5;241m=\u001b[39m \u001b[38;5;28;43mself\u001b[39;49m\u001b[38;5;241;43m.\u001b[39;49m\u001b[43mlstm\u001b[49m\u001b[43m(\u001b[49m\u001b[43mx_input\u001b[49m\u001b[38;5;241;43m.\u001b[39;49m\u001b[43munsqueeze\u001b[49m\u001b[43m(\u001b[49m\u001b[38;5;241;43m0\u001b[39;49m\u001b[43m)\u001b[49m\u001b[43m,\u001b[49m\u001b[43m \u001b[49m\u001b[43mencoder_hidden_states\u001b[49m\u001b[43m)\u001b[49m\n\u001b[1;32m    138\u001b[0m     output \u001b[38;5;241m=\u001b[39m \u001b[38;5;28mself\u001b[39m\u001b[38;5;241m.\u001b[39mlinear(lstm_out\u001b[38;5;241m.\u001b[39msqueeze(\u001b[38;5;241m0\u001b[39m))     \n\u001b[1;32m    140\u001b[0m     \u001b[38;5;28;01mreturn\u001b[39;00m output, \u001b[38;5;28mself\u001b[39m\u001b[38;5;241m.\u001b[39mhidden\n",
      "File \u001b[0;32m/opt/anaconda3/envs/TFML/lib/python3.9/site-packages/torch/nn/modules/module.py:1110\u001b[0m, in \u001b[0;36mModule._call_impl\u001b[0;34m(self, *input, **kwargs)\u001b[0m\n\u001b[1;32m   1106\u001b[0m \u001b[38;5;66;03m# If we don't have any hooks, we want to skip the rest of the logic in\u001b[39;00m\n\u001b[1;32m   1107\u001b[0m \u001b[38;5;66;03m# this function, and just call forward.\u001b[39;00m\n\u001b[1;32m   1108\u001b[0m \u001b[38;5;28;01mif\u001b[39;00m \u001b[38;5;129;01mnot\u001b[39;00m (\u001b[38;5;28mself\u001b[39m\u001b[38;5;241m.\u001b[39m_backward_hooks \u001b[38;5;129;01mor\u001b[39;00m \u001b[38;5;28mself\u001b[39m\u001b[38;5;241m.\u001b[39m_forward_hooks \u001b[38;5;129;01mor\u001b[39;00m \u001b[38;5;28mself\u001b[39m\u001b[38;5;241m.\u001b[39m_forward_pre_hooks \u001b[38;5;129;01mor\u001b[39;00m _global_backward_hooks\n\u001b[1;32m   1109\u001b[0m         \u001b[38;5;129;01mor\u001b[39;00m _global_forward_hooks \u001b[38;5;129;01mor\u001b[39;00m _global_forward_pre_hooks):\n\u001b[0;32m-> 1110\u001b[0m     \u001b[38;5;28;01mreturn\u001b[39;00m \u001b[43mforward_call\u001b[49m\u001b[43m(\u001b[49m\u001b[38;5;241;43m*\u001b[39;49m\u001b[38;5;28;43minput\u001b[39;49m\u001b[43m,\u001b[49m\u001b[43m \u001b[49m\u001b[38;5;241;43m*\u001b[39;49m\u001b[38;5;241;43m*\u001b[39;49m\u001b[43mkwargs\u001b[49m\u001b[43m)\u001b[49m\n\u001b[1;32m   1111\u001b[0m \u001b[38;5;66;03m# Do not call functions when jit is used\u001b[39;00m\n\u001b[1;32m   1112\u001b[0m full_backward_hooks, non_full_backward_hooks \u001b[38;5;241m=\u001b[39m [], []\n",
      "File \u001b[0;32m/opt/anaconda3/envs/TFML/lib/python3.9/site-packages/torch/nn/modules/rnn.py:759\u001b[0m, in \u001b[0;36mLSTM.forward\u001b[0;34m(self, input, hx)\u001b[0m\n\u001b[1;32m    755\u001b[0m     \u001b[38;5;66;03m# Each batch of the hidden state should match the input sequence that\u001b[39;00m\n\u001b[1;32m    756\u001b[0m     \u001b[38;5;66;03m# the user believes he/she is passing in.\u001b[39;00m\n\u001b[1;32m    757\u001b[0m     hx \u001b[38;5;241m=\u001b[39m \u001b[38;5;28mself\u001b[39m\u001b[38;5;241m.\u001b[39mpermute_hidden(hx, sorted_indices)\n\u001b[0;32m--> 759\u001b[0m \u001b[38;5;28;43mself\u001b[39;49m\u001b[38;5;241;43m.\u001b[39;49m\u001b[43mcheck_forward_args\u001b[49m\u001b[43m(\u001b[49m\u001b[38;5;28;43minput\u001b[39;49m\u001b[43m,\u001b[49m\u001b[43m \u001b[49m\u001b[43mhx\u001b[49m\u001b[43m,\u001b[49m\u001b[43m \u001b[49m\u001b[43mbatch_sizes\u001b[49m\u001b[43m)\u001b[49m\n\u001b[1;32m    760\u001b[0m \u001b[38;5;28;01mif\u001b[39;00m batch_sizes \u001b[38;5;129;01mis\u001b[39;00m \u001b[38;5;28;01mNone\u001b[39;00m:\n\u001b[1;32m    761\u001b[0m     result \u001b[38;5;241m=\u001b[39m _VF\u001b[38;5;241m.\u001b[39mlstm(\u001b[38;5;28minput\u001b[39m, hx, \u001b[38;5;28mself\u001b[39m\u001b[38;5;241m.\u001b[39m_flat_weights, \u001b[38;5;28mself\u001b[39m\u001b[38;5;241m.\u001b[39mbias, \u001b[38;5;28mself\u001b[39m\u001b[38;5;241m.\u001b[39mnum_layers,\n\u001b[1;32m    762\u001b[0m                       \u001b[38;5;28mself\u001b[39m\u001b[38;5;241m.\u001b[39mdropout, \u001b[38;5;28mself\u001b[39m\u001b[38;5;241m.\u001b[39mtraining, \u001b[38;5;28mself\u001b[39m\u001b[38;5;241m.\u001b[39mbidirectional, \u001b[38;5;28mself\u001b[39m\u001b[38;5;241m.\u001b[39mbatch_first)\n",
      "File \u001b[0;32m/opt/anaconda3/envs/TFML/lib/python3.9/site-packages/torch/nn/modules/rnn.py:684\u001b[0m, in \u001b[0;36mLSTM.check_forward_args\u001b[0;34m(self, input, hidden, batch_sizes)\u001b[0m\n\u001b[1;32m    679\u001b[0m \u001b[38;5;28;01mdef\u001b[39;00m \u001b[38;5;21mcheck_forward_args\u001b[39m(\u001b[38;5;28mself\u001b[39m,  \u001b[38;5;66;03m# type: ignore[override]\u001b[39;00m\n\u001b[1;32m    680\u001b[0m                        \u001b[38;5;28minput\u001b[39m: Tensor,\n\u001b[1;32m    681\u001b[0m                        hidden: Tuple[Tensor, Tensor],\n\u001b[1;32m    682\u001b[0m                        batch_sizes: Optional[Tensor],\n\u001b[1;32m    683\u001b[0m                        ):\n\u001b[0;32m--> 684\u001b[0m     \u001b[38;5;28;43mself\u001b[39;49m\u001b[38;5;241;43m.\u001b[39;49m\u001b[43mcheck_input\u001b[49m\u001b[43m(\u001b[49m\u001b[38;5;28;43minput\u001b[39;49m\u001b[43m,\u001b[49m\u001b[43m \u001b[49m\u001b[43mbatch_sizes\u001b[49m\u001b[43m)\u001b[49m\n\u001b[1;32m    685\u001b[0m     \u001b[38;5;28mself\u001b[39m\u001b[38;5;241m.\u001b[39mcheck_hidden_size(hidden[\u001b[38;5;241m0\u001b[39m], \u001b[38;5;28mself\u001b[39m\u001b[38;5;241m.\u001b[39mget_expected_hidden_size(\u001b[38;5;28minput\u001b[39m, batch_sizes),\n\u001b[1;32m    686\u001b[0m                            \u001b[38;5;124m'\u001b[39m\u001b[38;5;124mExpected hidden[0] size \u001b[39m\u001b[38;5;132;01m{}\u001b[39;00m\u001b[38;5;124m, got \u001b[39m\u001b[38;5;132;01m{}\u001b[39;00m\u001b[38;5;124m'\u001b[39m)\n\u001b[1;32m    687\u001b[0m     \u001b[38;5;28mself\u001b[39m\u001b[38;5;241m.\u001b[39mcheck_hidden_size(hidden[\u001b[38;5;241m1\u001b[39m], \u001b[38;5;28mself\u001b[39m\u001b[38;5;241m.\u001b[39mget_expected_cell_size(\u001b[38;5;28minput\u001b[39m, batch_sizes),\n\u001b[1;32m    688\u001b[0m                            \u001b[38;5;124m'\u001b[39m\u001b[38;5;124mExpected hidden[1] size \u001b[39m\u001b[38;5;132;01m{}\u001b[39;00m\u001b[38;5;124m, got \u001b[39m\u001b[38;5;132;01m{}\u001b[39;00m\u001b[38;5;124m'\u001b[39m)\n",
      "File \u001b[0;32m/opt/anaconda3/envs/TFML/lib/python3.9/site-packages/torch/nn/modules/rnn.py:205\u001b[0m, in \u001b[0;36mRNNBase.check_input\u001b[0;34m(self, input, batch_sizes)\u001b[0m\n\u001b[1;32m    201\u001b[0m     \u001b[38;5;28;01mraise\u001b[39;00m \u001b[38;5;167;01mRuntimeError\u001b[39;00m(\n\u001b[1;32m    202\u001b[0m         \u001b[38;5;124m'\u001b[39m\u001b[38;5;124minput must have \u001b[39m\u001b[38;5;132;01m{}\u001b[39;00m\u001b[38;5;124m dimensions, got \u001b[39m\u001b[38;5;132;01m{}\u001b[39;00m\u001b[38;5;124m'\u001b[39m\u001b[38;5;241m.\u001b[39mformat(\n\u001b[1;32m    203\u001b[0m             expected_input_dim, \u001b[38;5;28minput\u001b[39m\u001b[38;5;241m.\u001b[39mdim()))\n\u001b[1;32m    204\u001b[0m \u001b[38;5;28;01mif\u001b[39;00m \u001b[38;5;28mself\u001b[39m\u001b[38;5;241m.\u001b[39minput_size \u001b[38;5;241m!=\u001b[39m \u001b[38;5;28minput\u001b[39m\u001b[38;5;241m.\u001b[39msize(\u001b[38;5;241m-\u001b[39m\u001b[38;5;241m1\u001b[39m):\n\u001b[0;32m--> 205\u001b[0m     \u001b[38;5;28;01mraise\u001b[39;00m \u001b[38;5;167;01mRuntimeError\u001b[39;00m(\n\u001b[1;32m    206\u001b[0m         \u001b[38;5;124m'\u001b[39m\u001b[38;5;124minput.size(-1) must be equal to input_size. Expected \u001b[39m\u001b[38;5;132;01m{}\u001b[39;00m\u001b[38;5;124m, got \u001b[39m\u001b[38;5;132;01m{}\u001b[39;00m\u001b[38;5;124m'\u001b[39m\u001b[38;5;241m.\u001b[39mformat(\n\u001b[1;32m    207\u001b[0m             \u001b[38;5;28mself\u001b[39m\u001b[38;5;241m.\u001b[39minput_size, \u001b[38;5;28minput\u001b[39m\u001b[38;5;241m.\u001b[39msize(\u001b[38;5;241m-\u001b[39m\u001b[38;5;241m1\u001b[39m)))\n",
      "\u001b[0;31mRuntimeError\u001b[0m: input.size(-1) must be equal to input_size. Expected 3, got 43"
     ]
    },
    {
     "data": {
      "image/png": "[encoded data removed]",
      "text/plain": [
       "<Figure size 936x1080 with 8 Axes>"
      ]
     },
     "metadata": {
      "needs_background": "light"
     },
     "output_type": "display_data"
    }
   ],
   "source": [
    "# specify model parameters and train\n",
    "model = s2s.lstm_seq2seq(input_size = X_train.shape[2], target_size=3, hidden_size = 3)\n",
    "loss = model.train_model(X_train, Y_train, n_epochs = 50, target_len = Y_train.shape[0], batch_size = 36, training_prediction = 'mixed_teacher_forcing', teacher_forcing_ratio = 0.6, learning_rate = 0.01, dynamic_tf = False)\n",
    "print(loss)\n",
    "# plot predictions on train/test data\n",
    "s2s_plt.plot_train_test_results(model, X_train, Y_train, X_test, Y_test)"
   ]
  },
  {
   "cell_type": "code",
   "execution_count": null,
   "id": "665b9443-1920-4b11-9fc1-17cfbeb30d35",
   "metadata": {},
   "outputs": [],
   "source": [
    "# specify model parameters and train\n",
    "model = lstm_encoder_decoder.lstm_seq2seq(input_size = X_train.shape[2], hidden_size = 15)\n",
    "loss = model.train_model(X_train, Y_train, n_epochs = 50, target_len = ow, batch_size = 5, training_prediction = 'mixed_teacher_forcing', teacher_forcing_ratio = 0.6, learning_rate = 0.01, dynamic_tf = False)\n",
    "\n",
    "# plot predictions on train/test data\n",
    "plotting.plot_train_test_results(model, Xtrain, Ytrain, Xtest, Ytest)\n",
    "\n",
    "plt.close('all')"
   ]
  }
 ],
 "metadata": {
  "kernelspec": {
   "display_name": "Python 3 (ipykernel)",
   "language": "python",
   "name": "python3"
  },
  "language_info": {
   "codemirror_mode": {
    "name": "ipython",
    "version": 3
   },
   "file_extension": ".py",
   "mimetype": "text/x-python",
   "name": "python",
   "nbconvert_exporter": "python",
   "pygments_lexer": "ipython3",
   "version": "3.9.9"
  }
 },
 "nbformat": 4,
 "nbformat_minor": 5
}
